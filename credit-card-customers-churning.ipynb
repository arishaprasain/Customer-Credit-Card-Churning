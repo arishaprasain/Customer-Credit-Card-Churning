{
 "cells": [
  {
   "cell_type": "code",
   "execution_count": 1,
   "id": "0efd1c31",
   "metadata": {
    "_cell_guid": "b1076dfc-b9ad-4769-8c92-a6c4dae69d19",
    "_uuid": "8f2839f25d086af736a60e9eeb907d3b93b6e0e5",
    "execution": {
     "iopub.execute_input": "2023-01-06T04:23:51.026091Z",
     "iopub.status.busy": "2023-01-06T04:23:51.025204Z",
     "iopub.status.idle": "2023-01-06T04:23:51.044306Z",
     "shell.execute_reply": "2023-01-06T04:23:51.043038Z"
    },
    "papermill": {
     "duration": 0.044336,
     "end_time": "2023-01-06T04:23:51.048233",
     "exception": false,
     "start_time": "2023-01-06T04:23:51.003897",
     "status": "completed"
    },
    "tags": []
   },
   "outputs": [
    {
     "name": "stdout",
     "output_type": "stream",
     "text": [
      "/kaggle/input/credit-card-customers-prediction/BankChurners.csv\n"
     ]
    }
   ],
   "source": [
    "# This Python 3 environment comes with many helpful analytics libraries installed\n",
    "# It is defined by the kaggle/python Docker image: https://github.com/kaggle/docker-python\n",
    "# For example, here's several helpful packages to load\n",
    "\n",
    "import numpy as np # linear algebra\n",
    "import pandas as pd # data processing, CSV file I/O (e.g. pd.read_csv)\n",
    "\n",
    "# Input data files are available in the read-only \"../input/\" directory\n",
    "# For example, running this (by clicking run or pressing Shift+Enter) will list all files under the input directory\n",
    "\n",
    "import os\n",
    "for dirname, _, filenames in os.walk('/kaggle/input'):\n",
    "    for filename in filenames:\n",
    "        print(os.path.join(dirname, filename))\n",
    "\n",
    "# You can write up to 20GB to the current directory (/kaggle/working/) that gets preserved as output when you create a version using \"Save & Run All\" \n",
    "# You can also write temporary files to /kaggle/temp/, but they won't be saved outside of the current session"
   ]
  },
  {
   "cell_type": "code",
   "execution_count": 2,
   "id": "271f3723",
   "metadata": {
    "execution": {
     "iopub.execute_input": "2023-01-06T04:23:51.081496Z",
     "iopub.status.busy": "2023-01-06T04:23:51.081098Z",
     "iopub.status.idle": "2023-01-06T04:23:52.192505Z",
     "shell.execute_reply": "2023-01-06T04:23:52.191440Z"
    },
    "papermill": {
     "duration": 1.130794,
     "end_time": "2023-01-06T04:23:52.195320",
     "exception": false,
     "start_time": "2023-01-06T04:23:51.064526",
     "status": "completed"
    },
    "tags": []
   },
   "outputs": [],
   "source": [
    "from sklearn.preprocessing import OneHotEncoder\n",
    "ohe = OneHotEncoder()\n"
   ]
  },
  {
   "cell_type": "code",
   "execution_count": 3,
   "id": "0e46a9da",
   "metadata": {
    "execution": {
     "iopub.execute_input": "2023-01-06T04:23:52.228206Z",
     "iopub.status.busy": "2023-01-06T04:23:52.227800Z",
     "iopub.status.idle": "2023-01-06T04:23:52.343330Z",
     "shell.execute_reply": "2023-01-06T04:23:52.342272Z"
    },
    "papermill": {
     "duration": 0.134816,
     "end_time": "2023-01-06T04:23:52.346077",
     "exception": false,
     "start_time": "2023-01-06T04:23:52.211261",
     "status": "completed"
    },
    "tags": []
   },
   "outputs": [
    {
     "name": "stdout",
     "output_type": "stream",
     "text": [
      "shape : (10127, 23)\n"
     ]
    },
    {
     "data": {
      "text/html": [
       "<div>\n",
       "<style scoped>\n",
       "    .dataframe tbody tr th:only-of-type {\n",
       "        vertical-align: middle;\n",
       "    }\n",
       "\n",
       "    .dataframe tbody tr th {\n",
       "        vertical-align: top;\n",
       "    }\n",
       "\n",
       "    .dataframe thead th {\n",
       "        text-align: right;\n",
       "    }\n",
       "</style>\n",
       "<table border=\"1\" class=\"dataframe\">\n",
       "  <thead>\n",
       "    <tr style=\"text-align: right;\">\n",
       "      <th></th>\n",
       "      <th>CLIENTNUM</th>\n",
       "      <th>Attrition_Flag</th>\n",
       "      <th>Customer_Age</th>\n",
       "      <th>Gender</th>\n",
       "      <th>Dependent_count</th>\n",
       "      <th>Education_Level</th>\n",
       "      <th>Marital_Status</th>\n",
       "      <th>Income_Category</th>\n",
       "      <th>Card_Category</th>\n",
       "      <th>Months_on_book</th>\n",
       "      <th>...</th>\n",
       "      <th>Credit_Limit</th>\n",
       "      <th>Total_Revolving_Bal</th>\n",
       "      <th>Avg_Open_To_Buy</th>\n",
       "      <th>Total_Amt_Chng_Q4_Q1</th>\n",
       "      <th>Total_Trans_Amt</th>\n",
       "      <th>Total_Trans_Ct</th>\n",
       "      <th>Total_Ct_Chng_Q4_Q1</th>\n",
       "      <th>Avg_Utilization_Ratio</th>\n",
       "      <th>Naive_Bayes_Classifier_Attrition_Flag_Card_Category_Contacts_Count_12_mon_Dependent_count_Education_Level_Months_Inactive_12_mon_1</th>\n",
       "      <th>Naive_Bayes_Classifier_Attrition_Flag_Card_Category_Contacts_Count_12_mon_Dependent_count_Education_Level_Months_Inactive_12_mon_2</th>\n",
       "    </tr>\n",
       "  </thead>\n",
       "  <tbody>\n",
       "    <tr>\n",
       "      <th>0</th>\n",
       "      <td>768805383</td>\n",
       "      <td>Existing Customer</td>\n",
       "      <td>45</td>\n",
       "      <td>M</td>\n",
       "      <td>3</td>\n",
       "      <td>High School</td>\n",
       "      <td>Married</td>\n",
       "      <td>$60K - $80K</td>\n",
       "      <td>Blue</td>\n",
       "      <td>39</td>\n",
       "      <td>...</td>\n",
       "      <td>12691.0</td>\n",
       "      <td>777</td>\n",
       "      <td>11914.0</td>\n",
       "      <td>1.335</td>\n",
       "      <td>1144</td>\n",
       "      <td>42</td>\n",
       "      <td>1.625</td>\n",
       "      <td>0.061</td>\n",
       "      <td>0.000093</td>\n",
       "      <td>0.99991</td>\n",
       "    </tr>\n",
       "    <tr>\n",
       "      <th>1</th>\n",
       "      <td>818770008</td>\n",
       "      <td>Existing Customer</td>\n",
       "      <td>49</td>\n",
       "      <td>F</td>\n",
       "      <td>5</td>\n",
       "      <td>Graduate</td>\n",
       "      <td>Single</td>\n",
       "      <td>Less than $40K</td>\n",
       "      <td>Blue</td>\n",
       "      <td>44</td>\n",
       "      <td>...</td>\n",
       "      <td>8256.0</td>\n",
       "      <td>864</td>\n",
       "      <td>7392.0</td>\n",
       "      <td>1.541</td>\n",
       "      <td>1291</td>\n",
       "      <td>33</td>\n",
       "      <td>3.714</td>\n",
       "      <td>0.105</td>\n",
       "      <td>0.000057</td>\n",
       "      <td>0.99994</td>\n",
       "    </tr>\n",
       "    <tr>\n",
       "      <th>2</th>\n",
       "      <td>713982108</td>\n",
       "      <td>Existing Customer</td>\n",
       "      <td>51</td>\n",
       "      <td>M</td>\n",
       "      <td>3</td>\n",
       "      <td>Graduate</td>\n",
       "      <td>Married</td>\n",
       "      <td>$80K - $120K</td>\n",
       "      <td>Blue</td>\n",
       "      <td>36</td>\n",
       "      <td>...</td>\n",
       "      <td>3418.0</td>\n",
       "      <td>0</td>\n",
       "      <td>3418.0</td>\n",
       "      <td>2.594</td>\n",
       "      <td>1887</td>\n",
       "      <td>20</td>\n",
       "      <td>2.333</td>\n",
       "      <td>0.000</td>\n",
       "      <td>0.000021</td>\n",
       "      <td>0.99998</td>\n",
       "    </tr>\n",
       "    <tr>\n",
       "      <th>3</th>\n",
       "      <td>769911858</td>\n",
       "      <td>Existing Customer</td>\n",
       "      <td>40</td>\n",
       "      <td>F</td>\n",
       "      <td>4</td>\n",
       "      <td>High School</td>\n",
       "      <td>Unknown</td>\n",
       "      <td>Less than $40K</td>\n",
       "      <td>Blue</td>\n",
       "      <td>34</td>\n",
       "      <td>...</td>\n",
       "      <td>3313.0</td>\n",
       "      <td>2517</td>\n",
       "      <td>796.0</td>\n",
       "      <td>1.405</td>\n",
       "      <td>1171</td>\n",
       "      <td>20</td>\n",
       "      <td>2.333</td>\n",
       "      <td>0.760</td>\n",
       "      <td>0.000134</td>\n",
       "      <td>0.99987</td>\n",
       "    </tr>\n",
       "    <tr>\n",
       "      <th>4</th>\n",
       "      <td>709106358</td>\n",
       "      <td>Existing Customer</td>\n",
       "      <td>40</td>\n",
       "      <td>M</td>\n",
       "      <td>3</td>\n",
       "      <td>Uneducated</td>\n",
       "      <td>Married</td>\n",
       "      <td>$60K - $80K</td>\n",
       "      <td>Blue</td>\n",
       "      <td>21</td>\n",
       "      <td>...</td>\n",
       "      <td>4716.0</td>\n",
       "      <td>0</td>\n",
       "      <td>4716.0</td>\n",
       "      <td>2.175</td>\n",
       "      <td>816</td>\n",
       "      <td>28</td>\n",
       "      <td>2.500</td>\n",
       "      <td>0.000</td>\n",
       "      <td>0.000022</td>\n",
       "      <td>0.99998</td>\n",
       "    </tr>\n",
       "  </tbody>\n",
       "</table>\n",
       "<p>5 rows × 23 columns</p>\n",
       "</div>"
      ],
      "text/plain": [
       "   CLIENTNUM     Attrition_Flag  Customer_Age Gender  Dependent_count  \\\n",
       "0  768805383  Existing Customer            45      M                3   \n",
       "1  818770008  Existing Customer            49      F                5   \n",
       "2  713982108  Existing Customer            51      M                3   \n",
       "3  769911858  Existing Customer            40      F                4   \n",
       "4  709106358  Existing Customer            40      M                3   \n",
       "\n",
       "  Education_Level Marital_Status Income_Category Card_Category  \\\n",
       "0     High School        Married     $60K - $80K          Blue   \n",
       "1        Graduate         Single  Less than $40K          Blue   \n",
       "2        Graduate        Married    $80K - $120K          Blue   \n",
       "3     High School        Unknown  Less than $40K          Blue   \n",
       "4      Uneducated        Married     $60K - $80K          Blue   \n",
       "\n",
       "   Months_on_book  ...  Credit_Limit  Total_Revolving_Bal  Avg_Open_To_Buy  \\\n",
       "0              39  ...       12691.0                  777          11914.0   \n",
       "1              44  ...        8256.0                  864           7392.0   \n",
       "2              36  ...        3418.0                    0           3418.0   \n",
       "3              34  ...        3313.0                 2517            796.0   \n",
       "4              21  ...        4716.0                    0           4716.0   \n",
       "\n",
       "   Total_Amt_Chng_Q4_Q1  Total_Trans_Amt  Total_Trans_Ct  Total_Ct_Chng_Q4_Q1  \\\n",
       "0                 1.335             1144              42                1.625   \n",
       "1                 1.541             1291              33                3.714   \n",
       "2                 2.594             1887              20                2.333   \n",
       "3                 1.405             1171              20                2.333   \n",
       "4                 2.175              816              28                2.500   \n",
       "\n",
       "   Avg_Utilization_Ratio  \\\n",
       "0                  0.061   \n",
       "1                  0.105   \n",
       "2                  0.000   \n",
       "3                  0.760   \n",
       "4                  0.000   \n",
       "\n",
       "   Naive_Bayes_Classifier_Attrition_Flag_Card_Category_Contacts_Count_12_mon_Dependent_count_Education_Level_Months_Inactive_12_mon_1  \\\n",
       "0                                           0.000093                                                                                    \n",
       "1                                           0.000057                                                                                    \n",
       "2                                           0.000021                                                                                    \n",
       "3                                           0.000134                                                                                    \n",
       "4                                           0.000022                                                                                    \n",
       "\n",
       "   Naive_Bayes_Classifier_Attrition_Flag_Card_Category_Contacts_Count_12_mon_Dependent_count_Education_Level_Months_Inactive_12_mon_2  \n",
       "0                                            0.99991                                                                                   \n",
       "1                                            0.99994                                                                                   \n",
       "2                                            0.99998                                                                                   \n",
       "3                                            0.99987                                                                                   \n",
       "4                                            0.99998                                                                                   \n",
       "\n",
       "[5 rows x 23 columns]"
      ]
     },
     "execution_count": 3,
     "metadata": {},
     "output_type": "execute_result"
    }
   ],
   "source": [
    "\n",
    "df = pd.read_csv('/kaggle/input/credit-card-customers-prediction/BankChurners.csv')\n",
    "print(\"shape :\",df.shape)\n",
    "df.head()"
   ]
  },
  {
   "cell_type": "code",
   "execution_count": 4,
   "id": "3b46777e",
   "metadata": {
    "execution": {
     "iopub.execute_input": "2023-01-06T04:23:52.379770Z",
     "iopub.status.busy": "2023-01-06T04:23:52.379269Z",
     "iopub.status.idle": "2023-01-06T04:23:52.413038Z",
     "shell.execute_reply": "2023-01-06T04:23:52.411787Z"
    },
    "papermill": {
     "duration": 0.053722,
     "end_time": "2023-01-06T04:23:52.415698",
     "exception": false,
     "start_time": "2023-01-06T04:23:52.361976",
     "status": "completed"
    },
    "tags": []
   },
   "outputs": [
    {
     "data": {
      "text/html": [
       "<div>\n",
       "<style scoped>\n",
       "    .dataframe tbody tr th:only-of-type {\n",
       "        vertical-align: middle;\n",
       "    }\n",
       "\n",
       "    .dataframe tbody tr th {\n",
       "        vertical-align: top;\n",
       "    }\n",
       "\n",
       "    .dataframe thead th {\n",
       "        text-align: right;\n",
       "    }\n",
       "</style>\n",
       "<table border=\"1\" class=\"dataframe\">\n",
       "  <thead>\n",
       "    <tr style=\"text-align: right;\">\n",
       "      <th></th>\n",
       "      <th>Attrition_Flag</th>\n",
       "      <th>Customer_Age</th>\n",
       "      <th>Gender</th>\n",
       "      <th>Dependent_count</th>\n",
       "      <th>Education_Level</th>\n",
       "      <th>Marital_Status</th>\n",
       "      <th>Income_Category</th>\n",
       "      <th>Card_Category</th>\n",
       "      <th>Months_on_book</th>\n",
       "      <th>Total_Relationship_Count</th>\n",
       "      <th>...</th>\n",
       "      <th>Credit_Limit</th>\n",
       "      <th>Total_Revolving_Bal</th>\n",
       "      <th>Avg_Open_To_Buy</th>\n",
       "      <th>Total_Amt_Chng_Q4_Q1</th>\n",
       "      <th>Total_Trans_Amt</th>\n",
       "      <th>Total_Trans_Ct</th>\n",
       "      <th>Total_Ct_Chng_Q4_Q1</th>\n",
       "      <th>Avg_Utilization_Ratio</th>\n",
       "      <th>Naive_Bayes_Classifier_Attrition_Flag_Card_Category_Contacts_Count_12_mon_Dependent_count_Education_Level_Months_Inactive_12_mon_1</th>\n",
       "      <th>Naive_Bayes_Classifier_Attrition_Flag_Card_Category_Contacts_Count_12_mon_Dependent_count_Education_Level_Months_Inactive_12_mon_2</th>\n",
       "    </tr>\n",
       "  </thead>\n",
       "  <tbody>\n",
       "    <tr>\n",
       "      <th>0</th>\n",
       "      <td>Existing Customer</td>\n",
       "      <td>45</td>\n",
       "      <td>M</td>\n",
       "      <td>3</td>\n",
       "      <td>High School</td>\n",
       "      <td>Married</td>\n",
       "      <td>$60K - $80K</td>\n",
       "      <td>Blue</td>\n",
       "      <td>39</td>\n",
       "      <td>5</td>\n",
       "      <td>...</td>\n",
       "      <td>12691.0</td>\n",
       "      <td>777</td>\n",
       "      <td>11914.0</td>\n",
       "      <td>1.335</td>\n",
       "      <td>1144</td>\n",
       "      <td>42</td>\n",
       "      <td>1.625</td>\n",
       "      <td>0.061</td>\n",
       "      <td>0.000093</td>\n",
       "      <td>0.99991</td>\n",
       "    </tr>\n",
       "    <tr>\n",
       "      <th>1</th>\n",
       "      <td>Existing Customer</td>\n",
       "      <td>49</td>\n",
       "      <td>F</td>\n",
       "      <td>5</td>\n",
       "      <td>Graduate</td>\n",
       "      <td>Single</td>\n",
       "      <td>Less than $40K</td>\n",
       "      <td>Blue</td>\n",
       "      <td>44</td>\n",
       "      <td>6</td>\n",
       "      <td>...</td>\n",
       "      <td>8256.0</td>\n",
       "      <td>864</td>\n",
       "      <td>7392.0</td>\n",
       "      <td>1.541</td>\n",
       "      <td>1291</td>\n",
       "      <td>33</td>\n",
       "      <td>3.714</td>\n",
       "      <td>0.105</td>\n",
       "      <td>0.000057</td>\n",
       "      <td>0.99994</td>\n",
       "    </tr>\n",
       "    <tr>\n",
       "      <th>2</th>\n",
       "      <td>Existing Customer</td>\n",
       "      <td>51</td>\n",
       "      <td>M</td>\n",
       "      <td>3</td>\n",
       "      <td>Graduate</td>\n",
       "      <td>Married</td>\n",
       "      <td>$80K - $120K</td>\n",
       "      <td>Blue</td>\n",
       "      <td>36</td>\n",
       "      <td>4</td>\n",
       "      <td>...</td>\n",
       "      <td>3418.0</td>\n",
       "      <td>0</td>\n",
       "      <td>3418.0</td>\n",
       "      <td>2.594</td>\n",
       "      <td>1887</td>\n",
       "      <td>20</td>\n",
       "      <td>2.333</td>\n",
       "      <td>0.000</td>\n",
       "      <td>0.000021</td>\n",
       "      <td>0.99998</td>\n",
       "    </tr>\n",
       "    <tr>\n",
       "      <th>3</th>\n",
       "      <td>Existing Customer</td>\n",
       "      <td>40</td>\n",
       "      <td>F</td>\n",
       "      <td>4</td>\n",
       "      <td>High School</td>\n",
       "      <td>Unknown</td>\n",
       "      <td>Less than $40K</td>\n",
       "      <td>Blue</td>\n",
       "      <td>34</td>\n",
       "      <td>3</td>\n",
       "      <td>...</td>\n",
       "      <td>3313.0</td>\n",
       "      <td>2517</td>\n",
       "      <td>796.0</td>\n",
       "      <td>1.405</td>\n",
       "      <td>1171</td>\n",
       "      <td>20</td>\n",
       "      <td>2.333</td>\n",
       "      <td>0.760</td>\n",
       "      <td>0.000134</td>\n",
       "      <td>0.99987</td>\n",
       "    </tr>\n",
       "    <tr>\n",
       "      <th>4</th>\n",
       "      <td>Existing Customer</td>\n",
       "      <td>40</td>\n",
       "      <td>M</td>\n",
       "      <td>3</td>\n",
       "      <td>Uneducated</td>\n",
       "      <td>Married</td>\n",
       "      <td>$60K - $80K</td>\n",
       "      <td>Blue</td>\n",
       "      <td>21</td>\n",
       "      <td>5</td>\n",
       "      <td>...</td>\n",
       "      <td>4716.0</td>\n",
       "      <td>0</td>\n",
       "      <td>4716.0</td>\n",
       "      <td>2.175</td>\n",
       "      <td>816</td>\n",
       "      <td>28</td>\n",
       "      <td>2.500</td>\n",
       "      <td>0.000</td>\n",
       "      <td>0.000022</td>\n",
       "      <td>0.99998</td>\n",
       "    </tr>\n",
       "  </tbody>\n",
       "</table>\n",
       "<p>5 rows × 22 columns</p>\n",
       "</div>"
      ],
      "text/plain": [
       "      Attrition_Flag  Customer_Age Gender  Dependent_count Education_Level  \\\n",
       "0  Existing Customer            45      M                3     High School   \n",
       "1  Existing Customer            49      F                5        Graduate   \n",
       "2  Existing Customer            51      M                3        Graduate   \n",
       "3  Existing Customer            40      F                4     High School   \n",
       "4  Existing Customer            40      M                3      Uneducated   \n",
       "\n",
       "  Marital_Status Income_Category Card_Category  Months_on_book  \\\n",
       "0        Married     $60K - $80K          Blue              39   \n",
       "1         Single  Less than $40K          Blue              44   \n",
       "2        Married    $80K - $120K          Blue              36   \n",
       "3        Unknown  Less than $40K          Blue              34   \n",
       "4        Married     $60K - $80K          Blue              21   \n",
       "\n",
       "   Total_Relationship_Count  ...  Credit_Limit  Total_Revolving_Bal  \\\n",
       "0                         5  ...       12691.0                  777   \n",
       "1                         6  ...        8256.0                  864   \n",
       "2                         4  ...        3418.0                    0   \n",
       "3                         3  ...        3313.0                 2517   \n",
       "4                         5  ...        4716.0                    0   \n",
       "\n",
       "   Avg_Open_To_Buy  Total_Amt_Chng_Q4_Q1  Total_Trans_Amt  Total_Trans_Ct  \\\n",
       "0          11914.0                 1.335             1144              42   \n",
       "1           7392.0                 1.541             1291              33   \n",
       "2           3418.0                 2.594             1887              20   \n",
       "3            796.0                 1.405             1171              20   \n",
       "4           4716.0                 2.175              816              28   \n",
       "\n",
       "   Total_Ct_Chng_Q4_Q1  Avg_Utilization_Ratio  \\\n",
       "0                1.625                  0.061   \n",
       "1                3.714                  0.105   \n",
       "2                2.333                  0.000   \n",
       "3                2.333                  0.760   \n",
       "4                2.500                  0.000   \n",
       "\n",
       "   Naive_Bayes_Classifier_Attrition_Flag_Card_Category_Contacts_Count_12_mon_Dependent_count_Education_Level_Months_Inactive_12_mon_1  \\\n",
       "0                                           0.000093                                                                                    \n",
       "1                                           0.000057                                                                                    \n",
       "2                                           0.000021                                                                                    \n",
       "3                                           0.000134                                                                                    \n",
       "4                                           0.000022                                                                                    \n",
       "\n",
       "   Naive_Bayes_Classifier_Attrition_Flag_Card_Category_Contacts_Count_12_mon_Dependent_count_Education_Level_Months_Inactive_12_mon_2  \n",
       "0                                            0.99991                                                                                   \n",
       "1                                            0.99994                                                                                   \n",
       "2                                            0.99998                                                                                   \n",
       "3                                            0.99987                                                                                   \n",
       "4                                            0.99998                                                                                   \n",
       "\n",
       "[5 rows x 22 columns]"
      ]
     },
     "execution_count": 4,
     "metadata": {},
     "output_type": "execute_result"
    }
   ],
   "source": [
    "df.drop(labels =['CLIENTNUM'],inplace =True, axis = 1)\n",
    "df.head()"
   ]
  },
  {
   "cell_type": "markdown",
   "id": "7f76e094",
   "metadata": {
    "papermill": {
     "duration": 0.016091,
     "end_time": "2023-01-06T04:23:52.447805",
     "exception": false,
     "start_time": "2023-01-06T04:23:52.431714",
     "status": "completed"
    },
    "tags": []
   },
   "source": [
    "EXPLORING THE DATA"
   ]
  },
  {
   "cell_type": "code",
   "execution_count": 5,
   "id": "43579f83",
   "metadata": {
    "execution": {
     "iopub.execute_input": "2023-01-06T04:23:52.482752Z",
     "iopub.status.busy": "2023-01-06T04:23:52.482283Z",
     "iopub.status.idle": "2023-01-06T04:23:52.491417Z",
     "shell.execute_reply": "2023-01-06T04:23:52.490180Z"
    },
    "papermill": {
     "duration": 0.030081,
     "end_time": "2023-01-06T04:23:52.494017",
     "exception": false,
     "start_time": "2023-01-06T04:23:52.463936",
     "status": "completed"
    },
    "tags": []
   },
   "outputs": [
    {
     "data": {
      "text/plain": [
       "Attrition_Flag                                                                                                                         object\n",
       "Customer_Age                                                                                                                            int64\n",
       "Gender                                                                                                                                 object\n",
       "Dependent_count                                                                                                                         int64\n",
       "Education_Level                                                                                                                        object\n",
       "Marital_Status                                                                                                                         object\n",
       "Income_Category                                                                                                                        object\n",
       "Card_Category                                                                                                                          object\n",
       "Months_on_book                                                                                                                          int64\n",
       "Total_Relationship_Count                                                                                                                int64\n",
       "Months_Inactive_12_mon                                                                                                                  int64\n",
       "Contacts_Count_12_mon                                                                                                                   int64\n",
       "Credit_Limit                                                                                                                          float64\n",
       "Total_Revolving_Bal                                                                                                                     int64\n",
       "Avg_Open_To_Buy                                                                                                                       float64\n",
       "Total_Amt_Chng_Q4_Q1                                                                                                                  float64\n",
       "Total_Trans_Amt                                                                                                                         int64\n",
       "Total_Trans_Ct                                                                                                                          int64\n",
       "Total_Ct_Chng_Q4_Q1                                                                                                                   float64\n",
       "Avg_Utilization_Ratio                                                                                                                 float64\n",
       "Naive_Bayes_Classifier_Attrition_Flag_Card_Category_Contacts_Count_12_mon_Dependent_count_Education_Level_Months_Inactive_12_mon_1    float64\n",
       "Naive_Bayes_Classifier_Attrition_Flag_Card_Category_Contacts_Count_12_mon_Dependent_count_Education_Level_Months_Inactive_12_mon_2    float64\n",
       "dtype: object"
      ]
     },
     "execution_count": 5,
     "metadata": {},
     "output_type": "execute_result"
    }
   ],
   "source": [
    "df.dtypes"
   ]
  },
  {
   "cell_type": "code",
   "execution_count": 6,
   "id": "aa9488ec",
   "metadata": {
    "execution": {
     "iopub.execute_input": "2023-01-06T04:23:52.529970Z",
     "iopub.status.busy": "2023-01-06T04:23:52.529515Z",
     "iopub.status.idle": "2023-01-06T04:23:52.546842Z",
     "shell.execute_reply": "2023-01-06T04:23:52.545808Z"
    },
    "papermill": {
     "duration": 0.038545,
     "end_time": "2023-01-06T04:23:52.549530",
     "exception": false,
     "start_time": "2023-01-06T04:23:52.510985",
     "status": "completed"
    },
    "tags": []
   },
   "outputs": [],
   "source": [
    "df['Attrition_Flag'].replace({'Existing Customer' : 0 , 'Attrited Customer': 1},inplace = True)\n",
    "df.rename(columns ={'Attrition_Flag': 'Churned'},inplace = True)\n",
    "df.rename(columns = {'Naive_Bayes_Classifier_Attrition_Flag_Card_Category_Contacts_Count_12_mon_Dependent_count_Education_Level_Months_Inactive_12_mon_1'\n",
    "                  :'Bayes1',\n",
    "                  'Naive_Bayes_Classifier_Attrition_Flag_Card_Category_Contacts_Count_12_mon_Dependent_count_Education_Level_Months_Inactive_12_mon_2'\n",
    "                  : 'Bayes2'}, inplace = True)\n",
    "               "
   ]
  },
  {
   "cell_type": "code",
   "execution_count": 7,
   "id": "b1fa513c",
   "metadata": {
    "execution": {
     "iopub.execute_input": "2023-01-06T04:23:52.584684Z",
     "iopub.status.busy": "2023-01-06T04:23:52.583487Z",
     "iopub.status.idle": "2023-01-06T04:23:52.612068Z",
     "shell.execute_reply": "2023-01-06T04:23:52.611081Z"
    },
    "papermill": {
     "duration": 0.04862,
     "end_time": "2023-01-06T04:23:52.614458",
     "exception": false,
     "start_time": "2023-01-06T04:23:52.565838",
     "status": "completed"
    },
    "tags": []
   },
   "outputs": [
    {
     "data": {
      "text/html": [
       "<div>\n",
       "<style scoped>\n",
       "    .dataframe tbody tr th:only-of-type {\n",
       "        vertical-align: middle;\n",
       "    }\n",
       "\n",
       "    .dataframe tbody tr th {\n",
       "        vertical-align: top;\n",
       "    }\n",
       "\n",
       "    .dataframe thead th {\n",
       "        text-align: right;\n",
       "    }\n",
       "</style>\n",
       "<table border=\"1\" class=\"dataframe\">\n",
       "  <thead>\n",
       "    <tr style=\"text-align: right;\">\n",
       "      <th></th>\n",
       "      <th>Churned</th>\n",
       "      <th>Customer_Age</th>\n",
       "      <th>Gender</th>\n",
       "      <th>Dependent_count</th>\n",
       "      <th>Education_Level</th>\n",
       "      <th>Marital_Status</th>\n",
       "      <th>Income_Category</th>\n",
       "      <th>Card_Category</th>\n",
       "      <th>Months_on_book</th>\n",
       "      <th>Total_Relationship_Count</th>\n",
       "      <th>...</th>\n",
       "      <th>Credit_Limit</th>\n",
       "      <th>Total_Revolving_Bal</th>\n",
       "      <th>Avg_Open_To_Buy</th>\n",
       "      <th>Total_Amt_Chng_Q4_Q1</th>\n",
       "      <th>Total_Trans_Amt</th>\n",
       "      <th>Total_Trans_Ct</th>\n",
       "      <th>Total_Ct_Chng_Q4_Q1</th>\n",
       "      <th>Avg_Utilization_Ratio</th>\n",
       "      <th>Bayes1</th>\n",
       "      <th>Bayes2</th>\n",
       "    </tr>\n",
       "  </thead>\n",
       "  <tbody>\n",
       "    <tr>\n",
       "      <th>0</th>\n",
       "      <td>0</td>\n",
       "      <td>45</td>\n",
       "      <td>M</td>\n",
       "      <td>3</td>\n",
       "      <td>High School</td>\n",
       "      <td>Married</td>\n",
       "      <td>$60K - $80K</td>\n",
       "      <td>Blue</td>\n",
       "      <td>39</td>\n",
       "      <td>5</td>\n",
       "      <td>...</td>\n",
       "      <td>12691.0</td>\n",
       "      <td>777</td>\n",
       "      <td>11914.0</td>\n",
       "      <td>1.335</td>\n",
       "      <td>1144</td>\n",
       "      <td>42</td>\n",
       "      <td>1.625</td>\n",
       "      <td>0.061</td>\n",
       "      <td>0.000093</td>\n",
       "      <td>0.99991</td>\n",
       "    </tr>\n",
       "    <tr>\n",
       "      <th>1</th>\n",
       "      <td>0</td>\n",
       "      <td>49</td>\n",
       "      <td>F</td>\n",
       "      <td>5</td>\n",
       "      <td>Graduate</td>\n",
       "      <td>Single</td>\n",
       "      <td>Less than $40K</td>\n",
       "      <td>Blue</td>\n",
       "      <td>44</td>\n",
       "      <td>6</td>\n",
       "      <td>...</td>\n",
       "      <td>8256.0</td>\n",
       "      <td>864</td>\n",
       "      <td>7392.0</td>\n",
       "      <td>1.541</td>\n",
       "      <td>1291</td>\n",
       "      <td>33</td>\n",
       "      <td>3.714</td>\n",
       "      <td>0.105</td>\n",
       "      <td>0.000057</td>\n",
       "      <td>0.99994</td>\n",
       "    </tr>\n",
       "    <tr>\n",
       "      <th>2</th>\n",
       "      <td>0</td>\n",
       "      <td>51</td>\n",
       "      <td>M</td>\n",
       "      <td>3</td>\n",
       "      <td>Graduate</td>\n",
       "      <td>Married</td>\n",
       "      <td>$80K - $120K</td>\n",
       "      <td>Blue</td>\n",
       "      <td>36</td>\n",
       "      <td>4</td>\n",
       "      <td>...</td>\n",
       "      <td>3418.0</td>\n",
       "      <td>0</td>\n",
       "      <td>3418.0</td>\n",
       "      <td>2.594</td>\n",
       "      <td>1887</td>\n",
       "      <td>20</td>\n",
       "      <td>2.333</td>\n",
       "      <td>0.000</td>\n",
       "      <td>0.000021</td>\n",
       "      <td>0.99998</td>\n",
       "    </tr>\n",
       "    <tr>\n",
       "      <th>3</th>\n",
       "      <td>0</td>\n",
       "      <td>40</td>\n",
       "      <td>F</td>\n",
       "      <td>4</td>\n",
       "      <td>High School</td>\n",
       "      <td>Unknown</td>\n",
       "      <td>Less than $40K</td>\n",
       "      <td>Blue</td>\n",
       "      <td>34</td>\n",
       "      <td>3</td>\n",
       "      <td>...</td>\n",
       "      <td>3313.0</td>\n",
       "      <td>2517</td>\n",
       "      <td>796.0</td>\n",
       "      <td>1.405</td>\n",
       "      <td>1171</td>\n",
       "      <td>20</td>\n",
       "      <td>2.333</td>\n",
       "      <td>0.760</td>\n",
       "      <td>0.000134</td>\n",
       "      <td>0.99987</td>\n",
       "    </tr>\n",
       "    <tr>\n",
       "      <th>4</th>\n",
       "      <td>0</td>\n",
       "      <td>40</td>\n",
       "      <td>M</td>\n",
       "      <td>3</td>\n",
       "      <td>Uneducated</td>\n",
       "      <td>Married</td>\n",
       "      <td>$60K - $80K</td>\n",
       "      <td>Blue</td>\n",
       "      <td>21</td>\n",
       "      <td>5</td>\n",
       "      <td>...</td>\n",
       "      <td>4716.0</td>\n",
       "      <td>0</td>\n",
       "      <td>4716.0</td>\n",
       "      <td>2.175</td>\n",
       "      <td>816</td>\n",
       "      <td>28</td>\n",
       "      <td>2.500</td>\n",
       "      <td>0.000</td>\n",
       "      <td>0.000022</td>\n",
       "      <td>0.99998</td>\n",
       "    </tr>\n",
       "  </tbody>\n",
       "</table>\n",
       "<p>5 rows × 22 columns</p>\n",
       "</div>"
      ],
      "text/plain": [
       "   Churned  Customer_Age Gender  Dependent_count Education_Level  \\\n",
       "0        0            45      M                3     High School   \n",
       "1        0            49      F                5        Graduate   \n",
       "2        0            51      M                3        Graduate   \n",
       "3        0            40      F                4     High School   \n",
       "4        0            40      M                3      Uneducated   \n",
       "\n",
       "  Marital_Status Income_Category Card_Category  Months_on_book  \\\n",
       "0        Married     $60K - $80K          Blue              39   \n",
       "1         Single  Less than $40K          Blue              44   \n",
       "2        Married    $80K - $120K          Blue              36   \n",
       "3        Unknown  Less than $40K          Blue              34   \n",
       "4        Married     $60K - $80K          Blue              21   \n",
       "\n",
       "   Total_Relationship_Count  ...  Credit_Limit  Total_Revolving_Bal  \\\n",
       "0                         5  ...       12691.0                  777   \n",
       "1                         6  ...        8256.0                  864   \n",
       "2                         4  ...        3418.0                    0   \n",
       "3                         3  ...        3313.0                 2517   \n",
       "4                         5  ...        4716.0                    0   \n",
       "\n",
       "   Avg_Open_To_Buy  Total_Amt_Chng_Q4_Q1  Total_Trans_Amt  Total_Trans_Ct  \\\n",
       "0          11914.0                 1.335             1144              42   \n",
       "1           7392.0                 1.541             1291              33   \n",
       "2           3418.0                 2.594             1887              20   \n",
       "3            796.0                 1.405             1171              20   \n",
       "4           4716.0                 2.175              816              28   \n",
       "\n",
       "   Total_Ct_Chng_Q4_Q1  Avg_Utilization_Ratio    Bayes1   Bayes2  \n",
       "0                1.625                  0.061  0.000093  0.99991  \n",
       "1                3.714                  0.105  0.000057  0.99994  \n",
       "2                2.333                  0.000  0.000021  0.99998  \n",
       "3                2.333                  0.760  0.000134  0.99987  \n",
       "4                2.500                  0.000  0.000022  0.99998  \n",
       "\n",
       "[5 rows x 22 columns]"
      ]
     },
     "execution_count": 7,
     "metadata": {},
     "output_type": "execute_result"
    }
   ],
   "source": [
    "df.head()"
   ]
  },
  {
   "cell_type": "code",
   "execution_count": 8,
   "id": "1129dbfc",
   "metadata": {
    "execution": {
     "iopub.execute_input": "2023-01-06T04:23:52.650481Z",
     "iopub.status.busy": "2023-01-06T04:23:52.649364Z",
     "iopub.status.idle": "2023-01-06T04:23:52.660878Z",
     "shell.execute_reply": "2023-01-06T04:23:52.659873Z"
    },
    "papermill": {
     "duration": 0.032172,
     "end_time": "2023-01-06T04:23:52.663457",
     "exception": false,
     "start_time": "2023-01-06T04:23:52.631285",
     "status": "completed"
    },
    "tags": []
   },
   "outputs": [],
   "source": [
    "#separating categorical and continuous datatypes\n",
    "cont_cols = df.select_dtypes(include = ['int64','float64'])\n",
    "cat_cols = df.select_dtypes(include = ['object'])"
   ]
  },
  {
   "cell_type": "code",
   "execution_count": 9,
   "id": "f152d7f4",
   "metadata": {
    "execution": {
     "iopub.execute_input": "2023-01-06T04:23:52.699310Z",
     "iopub.status.busy": "2023-01-06T04:23:52.698577Z",
     "iopub.status.idle": "2023-01-06T04:23:52.718128Z",
     "shell.execute_reply": "2023-01-06T04:23:52.716941Z"
    },
    "papermill": {
     "duration": 0.040316,
     "end_time": "2023-01-06T04:23:52.720523",
     "exception": false,
     "start_time": "2023-01-06T04:23:52.680207",
     "status": "completed"
    },
    "tags": []
   },
   "outputs": [
    {
     "data": {
      "text/html": [
       "<div>\n",
       "<style scoped>\n",
       "    .dataframe tbody tr th:only-of-type {\n",
       "        vertical-align: middle;\n",
       "    }\n",
       "\n",
       "    .dataframe tbody tr th {\n",
       "        vertical-align: top;\n",
       "    }\n",
       "\n",
       "    .dataframe thead th {\n",
       "        text-align: right;\n",
       "    }\n",
       "</style>\n",
       "<table border=\"1\" class=\"dataframe\">\n",
       "  <thead>\n",
       "    <tr style=\"text-align: right;\">\n",
       "      <th></th>\n",
       "      <th>Churned</th>\n",
       "      <th>Customer_Age</th>\n",
       "      <th>Dependent_count</th>\n",
       "      <th>Months_on_book</th>\n",
       "      <th>Total_Relationship_Count</th>\n",
       "      <th>Months_Inactive_12_mon</th>\n",
       "      <th>Contacts_Count_12_mon</th>\n",
       "      <th>Credit_Limit</th>\n",
       "      <th>Total_Revolving_Bal</th>\n",
       "      <th>Avg_Open_To_Buy</th>\n",
       "      <th>Total_Amt_Chng_Q4_Q1</th>\n",
       "      <th>Total_Trans_Amt</th>\n",
       "      <th>Total_Trans_Ct</th>\n",
       "      <th>Total_Ct_Chng_Q4_Q1</th>\n",
       "      <th>Avg_Utilization_Ratio</th>\n",
       "      <th>Bayes1</th>\n",
       "      <th>Bayes2</th>\n",
       "    </tr>\n",
       "  </thead>\n",
       "  <tbody>\n",
       "    <tr>\n",
       "      <th>0</th>\n",
       "      <td>0</td>\n",
       "      <td>45</td>\n",
       "      <td>3</td>\n",
       "      <td>39</td>\n",
       "      <td>5</td>\n",
       "      <td>1</td>\n",
       "      <td>3</td>\n",
       "      <td>12691.0</td>\n",
       "      <td>777</td>\n",
       "      <td>11914.0</td>\n",
       "      <td>1.335</td>\n",
       "      <td>1144</td>\n",
       "      <td>42</td>\n",
       "      <td>1.625</td>\n",
       "      <td>0.061</td>\n",
       "      <td>0.000093</td>\n",
       "      <td>0.99991</td>\n",
       "    </tr>\n",
       "    <tr>\n",
       "      <th>1</th>\n",
       "      <td>0</td>\n",
       "      <td>49</td>\n",
       "      <td>5</td>\n",
       "      <td>44</td>\n",
       "      <td>6</td>\n",
       "      <td>1</td>\n",
       "      <td>2</td>\n",
       "      <td>8256.0</td>\n",
       "      <td>864</td>\n",
       "      <td>7392.0</td>\n",
       "      <td>1.541</td>\n",
       "      <td>1291</td>\n",
       "      <td>33</td>\n",
       "      <td>3.714</td>\n",
       "      <td>0.105</td>\n",
       "      <td>0.000057</td>\n",
       "      <td>0.99994</td>\n",
       "    </tr>\n",
       "    <tr>\n",
       "      <th>2</th>\n",
       "      <td>0</td>\n",
       "      <td>51</td>\n",
       "      <td>3</td>\n",
       "      <td>36</td>\n",
       "      <td>4</td>\n",
       "      <td>1</td>\n",
       "      <td>0</td>\n",
       "      <td>3418.0</td>\n",
       "      <td>0</td>\n",
       "      <td>3418.0</td>\n",
       "      <td>2.594</td>\n",
       "      <td>1887</td>\n",
       "      <td>20</td>\n",
       "      <td>2.333</td>\n",
       "      <td>0.000</td>\n",
       "      <td>0.000021</td>\n",
       "      <td>0.99998</td>\n",
       "    </tr>\n",
       "    <tr>\n",
       "      <th>3</th>\n",
       "      <td>0</td>\n",
       "      <td>40</td>\n",
       "      <td>4</td>\n",
       "      <td>34</td>\n",
       "      <td>3</td>\n",
       "      <td>4</td>\n",
       "      <td>1</td>\n",
       "      <td>3313.0</td>\n",
       "      <td>2517</td>\n",
       "      <td>796.0</td>\n",
       "      <td>1.405</td>\n",
       "      <td>1171</td>\n",
       "      <td>20</td>\n",
       "      <td>2.333</td>\n",
       "      <td>0.760</td>\n",
       "      <td>0.000134</td>\n",
       "      <td>0.99987</td>\n",
       "    </tr>\n",
       "    <tr>\n",
       "      <th>4</th>\n",
       "      <td>0</td>\n",
       "      <td>40</td>\n",
       "      <td>3</td>\n",
       "      <td>21</td>\n",
       "      <td>5</td>\n",
       "      <td>1</td>\n",
       "      <td>0</td>\n",
       "      <td>4716.0</td>\n",
       "      <td>0</td>\n",
       "      <td>4716.0</td>\n",
       "      <td>2.175</td>\n",
       "      <td>816</td>\n",
       "      <td>28</td>\n",
       "      <td>2.500</td>\n",
       "      <td>0.000</td>\n",
       "      <td>0.000022</td>\n",
       "      <td>0.99998</td>\n",
       "    </tr>\n",
       "  </tbody>\n",
       "</table>\n",
       "</div>"
      ],
      "text/plain": [
       "   Churned  Customer_Age  Dependent_count  Months_on_book  \\\n",
       "0        0            45                3              39   \n",
       "1        0            49                5              44   \n",
       "2        0            51                3              36   \n",
       "3        0            40                4              34   \n",
       "4        0            40                3              21   \n",
       "\n",
       "   Total_Relationship_Count  Months_Inactive_12_mon  Contacts_Count_12_mon  \\\n",
       "0                         5                       1                      3   \n",
       "1                         6                       1                      2   \n",
       "2                         4                       1                      0   \n",
       "3                         3                       4                      1   \n",
       "4                         5                       1                      0   \n",
       "\n",
       "   Credit_Limit  Total_Revolving_Bal  Avg_Open_To_Buy  Total_Amt_Chng_Q4_Q1  \\\n",
       "0       12691.0                  777          11914.0                 1.335   \n",
       "1        8256.0                  864           7392.0                 1.541   \n",
       "2        3418.0                    0           3418.0                 2.594   \n",
       "3        3313.0                 2517            796.0                 1.405   \n",
       "4        4716.0                    0           4716.0                 2.175   \n",
       "\n",
       "   Total_Trans_Amt  Total_Trans_Ct  Total_Ct_Chng_Q4_Q1  \\\n",
       "0             1144              42                1.625   \n",
       "1             1291              33                3.714   \n",
       "2             1887              20                2.333   \n",
       "3             1171              20                2.333   \n",
       "4              816              28                2.500   \n",
       "\n",
       "   Avg_Utilization_Ratio    Bayes1   Bayes2  \n",
       "0                  0.061  0.000093  0.99991  \n",
       "1                  0.105  0.000057  0.99994  \n",
       "2                  0.000  0.000021  0.99998  \n",
       "3                  0.760  0.000134  0.99987  \n",
       "4                  0.000  0.000022  0.99998  "
      ]
     },
     "execution_count": 9,
     "metadata": {},
     "output_type": "execute_result"
    }
   ],
   "source": [
    "cont_cols.head()"
   ]
  },
  {
   "cell_type": "code",
   "execution_count": 10,
   "id": "de034f89",
   "metadata": {
    "execution": {
     "iopub.execute_input": "2023-01-06T04:23:52.756437Z",
     "iopub.status.busy": "2023-01-06T04:23:52.755993Z",
     "iopub.status.idle": "2023-01-06T04:23:52.769832Z",
     "shell.execute_reply": "2023-01-06T04:23:52.768581Z"
    },
    "papermill": {
     "duration": 0.034978,
     "end_time": "2023-01-06T04:23:52.772517",
     "exception": false,
     "start_time": "2023-01-06T04:23:52.737539",
     "status": "completed"
    },
    "tags": []
   },
   "outputs": [
    {
     "data": {
      "text/html": [
       "<div>\n",
       "<style scoped>\n",
       "    .dataframe tbody tr th:only-of-type {\n",
       "        vertical-align: middle;\n",
       "    }\n",
       "\n",
       "    .dataframe tbody tr th {\n",
       "        vertical-align: top;\n",
       "    }\n",
       "\n",
       "    .dataframe thead th {\n",
       "        text-align: right;\n",
       "    }\n",
       "</style>\n",
       "<table border=\"1\" class=\"dataframe\">\n",
       "  <thead>\n",
       "    <tr style=\"text-align: right;\">\n",
       "      <th></th>\n",
       "      <th>Gender</th>\n",
       "      <th>Education_Level</th>\n",
       "      <th>Marital_Status</th>\n",
       "      <th>Income_Category</th>\n",
       "      <th>Card_Category</th>\n",
       "    </tr>\n",
       "  </thead>\n",
       "  <tbody>\n",
       "    <tr>\n",
       "      <th>0</th>\n",
       "      <td>M</td>\n",
       "      <td>High School</td>\n",
       "      <td>Married</td>\n",
       "      <td>$60K - $80K</td>\n",
       "      <td>Blue</td>\n",
       "    </tr>\n",
       "    <tr>\n",
       "      <th>1</th>\n",
       "      <td>F</td>\n",
       "      <td>Graduate</td>\n",
       "      <td>Single</td>\n",
       "      <td>Less than $40K</td>\n",
       "      <td>Blue</td>\n",
       "    </tr>\n",
       "    <tr>\n",
       "      <th>2</th>\n",
       "      <td>M</td>\n",
       "      <td>Graduate</td>\n",
       "      <td>Married</td>\n",
       "      <td>$80K - $120K</td>\n",
       "      <td>Blue</td>\n",
       "    </tr>\n",
       "    <tr>\n",
       "      <th>3</th>\n",
       "      <td>F</td>\n",
       "      <td>High School</td>\n",
       "      <td>Unknown</td>\n",
       "      <td>Less than $40K</td>\n",
       "      <td>Blue</td>\n",
       "    </tr>\n",
       "    <tr>\n",
       "      <th>4</th>\n",
       "      <td>M</td>\n",
       "      <td>Uneducated</td>\n",
       "      <td>Married</td>\n",
       "      <td>$60K - $80K</td>\n",
       "      <td>Blue</td>\n",
       "    </tr>\n",
       "  </tbody>\n",
       "</table>\n",
       "</div>"
      ],
      "text/plain": [
       "  Gender Education_Level Marital_Status Income_Category Card_Category\n",
       "0      M     High School        Married     $60K - $80K          Blue\n",
       "1      F        Graduate         Single  Less than $40K          Blue\n",
       "2      M        Graduate        Married    $80K - $120K          Blue\n",
       "3      F     High School        Unknown  Less than $40K          Blue\n",
       "4      M      Uneducated        Married     $60K - $80K          Blue"
      ]
     },
     "execution_count": 10,
     "metadata": {},
     "output_type": "execute_result"
    }
   ],
   "source": [
    "cat_cols.head()"
   ]
  },
  {
   "cell_type": "code",
   "execution_count": 11,
   "id": "8500a4cf",
   "metadata": {
    "execution": {
     "iopub.execute_input": "2023-01-06T04:23:52.809720Z",
     "iopub.status.busy": "2023-01-06T04:23:52.809022Z",
     "iopub.status.idle": "2023-01-06T04:23:52.821470Z",
     "shell.execute_reply": "2023-01-06T04:23:52.819879Z"
    },
    "papermill": {
     "duration": 0.034322,
     "end_time": "2023-01-06T04:23:52.824203",
     "exception": false,
     "start_time": "2023-01-06T04:23:52.789881",
     "status": "completed"
    },
    "tags": []
   },
   "outputs": [
    {
     "data": {
      "text/plain": [
       "Gender             0\n",
       "Education_Level    0\n",
       "Marital_Status     0\n",
       "Income_Category    0\n",
       "Card_Category      0\n",
       "dtype: int64"
      ]
     },
     "execution_count": 11,
     "metadata": {},
     "output_type": "execute_result"
    }
   ],
   "source": [
    "cat_cols.isnull().sum()"
   ]
  },
  {
   "cell_type": "code",
   "execution_count": 12,
   "id": "fb24ec25",
   "metadata": {
    "execution": {
     "iopub.execute_input": "2023-01-06T04:23:52.861538Z",
     "iopub.status.busy": "2023-01-06T04:23:52.860743Z",
     "iopub.status.idle": "2023-01-06T04:23:52.865135Z",
     "shell.execute_reply": "2023-01-06T04:23:52.864349Z"
    },
    "papermill": {
     "duration": 0.02548,
     "end_time": "2023-01-06T04:23:52.867464",
     "exception": false,
     "start_time": "2023-01-06T04:23:52.841984",
     "status": "completed"
    },
    "tags": []
   },
   "outputs": [],
   "source": [
    "cat_cols_names = list(cat_cols.columns)\n"
   ]
  },
  {
   "cell_type": "code",
   "execution_count": 13,
   "id": "e55f1a5f",
   "metadata": {
    "execution": {
     "iopub.execute_input": "2023-01-06T04:23:52.904860Z",
     "iopub.status.busy": "2023-01-06T04:23:52.904085Z",
     "iopub.status.idle": "2023-01-06T04:23:52.916867Z",
     "shell.execute_reply": "2023-01-06T04:23:52.915564Z"
    },
    "papermill": {
     "duration": 0.03436,
     "end_time": "2023-01-06T04:23:52.919716",
     "exception": false,
     "start_time": "2023-01-06T04:23:52.885356",
     "status": "completed"
    },
    "tags": []
   },
   "outputs": [
    {
     "data": {
      "text/html": [
       "<div>\n",
       "<style scoped>\n",
       "    .dataframe tbody tr th:only-of-type {\n",
       "        vertical-align: middle;\n",
       "    }\n",
       "\n",
       "    .dataframe tbody tr th {\n",
       "        vertical-align: top;\n",
       "    }\n",
       "\n",
       "    .dataframe thead th {\n",
       "        text-align: right;\n",
       "    }\n",
       "</style>\n",
       "<table border=\"1\" class=\"dataframe\">\n",
       "  <thead>\n",
       "    <tr style=\"text-align: right;\">\n",
       "      <th></th>\n",
       "      <th>Gender</th>\n",
       "      <th>Education_Level</th>\n",
       "      <th>Marital_Status</th>\n",
       "      <th>Income_Category</th>\n",
       "      <th>Card_Category</th>\n",
       "    </tr>\n",
       "  </thead>\n",
       "  <tbody>\n",
       "    <tr>\n",
       "      <th>0</th>\n",
       "      <td>M</td>\n",
       "      <td>High School</td>\n",
       "      <td>Married</td>\n",
       "      <td>$60K - $80K</td>\n",
       "      <td>Blue</td>\n",
       "    </tr>\n",
       "    <tr>\n",
       "      <th>1</th>\n",
       "      <td>F</td>\n",
       "      <td>Graduate</td>\n",
       "      <td>Single</td>\n",
       "      <td>Less than $40K</td>\n",
       "      <td>Blue</td>\n",
       "    </tr>\n",
       "    <tr>\n",
       "      <th>2</th>\n",
       "      <td>M</td>\n",
       "      <td>Graduate</td>\n",
       "      <td>Married</td>\n",
       "      <td>$80K - $120K</td>\n",
       "      <td>Blue</td>\n",
       "    </tr>\n",
       "    <tr>\n",
       "      <th>3</th>\n",
       "      <td>F</td>\n",
       "      <td>High School</td>\n",
       "      <td>Unknown</td>\n",
       "      <td>Less than $40K</td>\n",
       "      <td>Blue</td>\n",
       "    </tr>\n",
       "    <tr>\n",
       "      <th>4</th>\n",
       "      <td>M</td>\n",
       "      <td>Uneducated</td>\n",
       "      <td>Married</td>\n",
       "      <td>$60K - $80K</td>\n",
       "      <td>Blue</td>\n",
       "    </tr>\n",
       "  </tbody>\n",
       "</table>\n",
       "</div>"
      ],
      "text/plain": [
       "  Gender Education_Level Marital_Status Income_Category Card_Category\n",
       "0      M     High School        Married     $60K - $80K          Blue\n",
       "1      F        Graduate         Single  Less than $40K          Blue\n",
       "2      M        Graduate        Married    $80K - $120K          Blue\n",
       "3      F     High School        Unknown  Less than $40K          Blue\n",
       "4      M      Uneducated        Married     $60K - $80K          Blue"
      ]
     },
     "execution_count": 13,
     "metadata": {},
     "output_type": "execute_result"
    }
   ],
   "source": [
    "cat_cols.head()"
   ]
  },
  {
   "cell_type": "code",
   "execution_count": 14,
   "id": "09420677",
   "metadata": {
    "execution": {
     "iopub.execute_input": "2023-01-06T04:23:52.957532Z",
     "iopub.status.busy": "2023-01-06T04:23:52.957069Z",
     "iopub.status.idle": "2023-01-06T04:23:52.975292Z",
     "shell.execute_reply": "2023-01-06T04:23:52.974072Z"
    },
    "papermill": {
     "duration": 0.04002,
     "end_time": "2023-01-06T04:23:52.977832",
     "exception": false,
     "start_time": "2023-01-06T04:23:52.937812",
     "status": "completed"
    },
    "tags": []
   },
   "outputs": [
    {
     "name": "stdout",
     "output_type": "stream",
     "text": [
      "Column: Gender,\n",
      "Values: Index(['F', 'M'], dtype='object'),'\n",
      "Counts :F    5358\n",
      "M    4769\n",
      "Name: Gender, dtype: int64\n",
      "---------------------------------------------------------------'\n",
      "Column: Education_Level,\n",
      "Values: Index(['Graduate', 'High School', 'Unknown', 'Uneducated', 'College',\n",
      "       'Post-Graduate', 'Doctorate'],\n",
      "      dtype='object'),'\n",
      "Counts :Graduate         3128\n",
      "High School      2013\n",
      "Unknown          1519\n",
      "Uneducated       1487\n",
      "College          1013\n",
      "Post-Graduate     516\n",
      "Doctorate         451\n",
      "Name: Education_Level, dtype: int64\n",
      "---------------------------------------------------------------'\n",
      "Column: Marital_Status,\n",
      "Values: Index(['Married', 'Single', 'Unknown', 'Divorced'], dtype='object'),'\n",
      "Counts :Married     4687\n",
      "Single      3943\n",
      "Unknown      749\n",
      "Divorced     748\n",
      "Name: Marital_Status, dtype: int64\n",
      "---------------------------------------------------------------'\n",
      "Column: Income_Category,\n",
      "Values: Index(['Less than $40K', '$40K - $60K', '$80K - $120K', '$60K - $80K',\n",
      "       'Unknown', '$120K +'],\n",
      "      dtype='object'),'\n",
      "Counts :Less than $40K    3561\n",
      "$40K - $60K       1790\n",
      "$80K - $120K      1535\n",
      "$60K - $80K       1402\n",
      "Unknown           1112\n",
      "$120K +            727\n",
      "Name: Income_Category, dtype: int64\n",
      "---------------------------------------------------------------'\n",
      "Column: Card_Category,\n",
      "Values: Index(['Blue', 'Silver', 'Gold', 'Platinum'], dtype='object'),'\n",
      "Counts :Blue        9436\n",
      "Silver       555\n",
      "Gold         116\n",
      "Platinum      20\n",
      "Name: Card_Category, dtype: int64\n",
      "---------------------------------------------------------------'\n"
     ]
    }
   ],
   "source": [
    "#loop through the columns to find counts of categoricals values in each columns\n",
    "\n",
    "for column in cat_cols[cat_cols_names]:\n",
    "    counts = cat_cols[column].value_counts()\n",
    "    values = counts.index\n",
    "    print(f\"Column: {column},\\nValues: {values},'\\nCounts :{counts}\\n---------------------------------------------------------------'\")\n",
    "    "
   ]
  },
  {
   "cell_type": "code",
   "execution_count": 15,
   "id": "45c25521",
   "metadata": {
    "execution": {
     "iopub.execute_input": "2023-01-06T04:23:53.015364Z",
     "iopub.status.busy": "2023-01-06T04:23:53.014678Z",
     "iopub.status.idle": "2023-01-06T04:23:53.021918Z",
     "shell.execute_reply": "2023-01-06T04:23:53.020800Z"
    },
    "papermill": {
     "duration": 0.029111,
     "end_time": "2023-01-06T04:23:53.024515",
     "exception": false,
     "start_time": "2023-01-06T04:23:52.995404",
     "status": "completed"
    },
    "tags": []
   },
   "outputs": [
    {
     "data": {
      "text/plain": [
       "['Gender',\n",
       " 'Education_Level',\n",
       " 'Marital_Status',\n",
       " 'Income_Category',\n",
       " 'Card_Category']"
      ]
     },
     "execution_count": 15,
     "metadata": {},
     "output_type": "execute_result"
    }
   ],
   "source": [
    "cat_cols_names"
   ]
  },
  {
   "cell_type": "code",
   "execution_count": 16,
   "id": "aee1fe79",
   "metadata": {
    "execution": {
     "iopub.execute_input": "2023-01-06T04:23:53.062311Z",
     "iopub.status.busy": "2023-01-06T04:23:53.061902Z",
     "iopub.status.idle": "2023-01-06T04:23:53.068672Z",
     "shell.execute_reply": "2023-01-06T04:23:53.067741Z"
    },
    "papermill": {
     "duration": 0.028383,
     "end_time": "2023-01-06T04:23:53.070890",
     "exception": false,
     "start_time": "2023-01-06T04:23:53.042507",
     "status": "completed"
    },
    "tags": []
   },
   "outputs": [
    {
     "data": {
      "text/plain": [
       "['Gender',\n",
       " 'Education_Level',\n",
       " 'Marital_Status',\n",
       " 'Income_Category',\n",
       " 'Card_Category',\n",
       " 'Churned']"
      ]
     },
     "execution_count": 16,
     "metadata": {},
     "output_type": "execute_result"
    }
   ],
   "source": [
    "group = cat_cols_names\n",
    "group.append('Churned')\n",
    "group"
   ]
  },
  {
   "cell_type": "code",
   "execution_count": 17,
   "id": "d70b68c8",
   "metadata": {
    "execution": {
     "iopub.execute_input": "2023-01-06T04:23:53.110508Z",
     "iopub.status.busy": "2023-01-06T04:23:53.109717Z",
     "iopub.status.idle": "2023-01-06T04:23:53.125503Z",
     "shell.execute_reply": "2023-01-06T04:23:53.123978Z"
    },
    "papermill": {
     "duration": 0.039121,
     "end_time": "2023-01-06T04:23:53.128441",
     "exception": false,
     "start_time": "2023-01-06T04:23:53.089320",
     "status": "completed"
    },
    "tags": []
   },
   "outputs": [
    {
     "data": {
      "text/html": [
       "<div>\n",
       "<style scoped>\n",
       "    .dataframe tbody tr th:only-of-type {\n",
       "        vertical-align: middle;\n",
       "    }\n",
       "\n",
       "    .dataframe tbody tr th {\n",
       "        vertical-align: top;\n",
       "    }\n",
       "\n",
       "    .dataframe thead th {\n",
       "        text-align: right;\n",
       "    }\n",
       "</style>\n",
       "<table border=\"1\" class=\"dataframe\">\n",
       "  <thead>\n",
       "    <tr style=\"text-align: right;\">\n",
       "      <th></th>\n",
       "      <th>Gender</th>\n",
       "      <th>Education_Level</th>\n",
       "      <th>Marital_Status</th>\n",
       "      <th>Income_Category</th>\n",
       "      <th>Card_Category</th>\n",
       "      <th>Churned</th>\n",
       "    </tr>\n",
       "  </thead>\n",
       "  <tbody>\n",
       "    <tr>\n",
       "      <th>0</th>\n",
       "      <td>M</td>\n",
       "      <td>High School</td>\n",
       "      <td>Married</td>\n",
       "      <td>$60K - $80K</td>\n",
       "      <td>Blue</td>\n",
       "      <td>0</td>\n",
       "    </tr>\n",
       "    <tr>\n",
       "      <th>1</th>\n",
       "      <td>F</td>\n",
       "      <td>Graduate</td>\n",
       "      <td>Single</td>\n",
       "      <td>Less than $40K</td>\n",
       "      <td>Blue</td>\n",
       "      <td>0</td>\n",
       "    </tr>\n",
       "    <tr>\n",
       "      <th>2</th>\n",
       "      <td>M</td>\n",
       "      <td>Graduate</td>\n",
       "      <td>Married</td>\n",
       "      <td>$80K - $120K</td>\n",
       "      <td>Blue</td>\n",
       "      <td>0</td>\n",
       "    </tr>\n",
       "    <tr>\n",
       "      <th>3</th>\n",
       "      <td>F</td>\n",
       "      <td>High School</td>\n",
       "      <td>Unknown</td>\n",
       "      <td>Less than $40K</td>\n",
       "      <td>Blue</td>\n",
       "      <td>0</td>\n",
       "    </tr>\n",
       "    <tr>\n",
       "      <th>4</th>\n",
       "      <td>M</td>\n",
       "      <td>Uneducated</td>\n",
       "      <td>Married</td>\n",
       "      <td>$60K - $80K</td>\n",
       "      <td>Blue</td>\n",
       "      <td>0</td>\n",
       "    </tr>\n",
       "  </tbody>\n",
       "</table>\n",
       "</div>"
      ],
      "text/plain": [
       "  Gender Education_Level Marital_Status Income_Category Card_Category  Churned\n",
       "0      M     High School        Married     $60K - $80K          Blue        0\n",
       "1      F        Graduate         Single  Less than $40K          Blue        0\n",
       "2      M        Graduate        Married    $80K - $120K          Blue        0\n",
       "3      F     High School        Unknown  Less than $40K          Blue        0\n",
       "4      M      Uneducated        Married     $60K - $80K          Blue        0"
      ]
     },
     "execution_count": 17,
     "metadata": {},
     "output_type": "execute_result"
    }
   ],
   "source": [
    "\n",
    "another = pd.concat([cat_cols,df['Churned']], axis = 1)\n",
    "another.head()\n",
    "\n"
   ]
  },
  {
   "cell_type": "code",
   "execution_count": 18,
   "id": "79b84111",
   "metadata": {
    "execution": {
     "iopub.execute_input": "2023-01-06T04:23:53.167044Z",
     "iopub.status.busy": "2023-01-06T04:23:53.166613Z",
     "iopub.status.idle": "2023-01-06T04:23:53.274605Z",
     "shell.execute_reply": "2023-01-06T04:23:53.272228Z"
    },
    "papermill": {
     "duration": 0.130843,
     "end_time": "2023-01-06T04:23:53.277507",
     "exception": false,
     "start_time": "2023-01-06T04:23:53.146664",
     "status": "completed"
    },
    "tags": []
   },
   "outputs": [
    {
     "name": "stdout",
     "output_type": "stream",
     "text": [
      "         Churned\n",
      "Gender          \n",
      "F       0.173572\n",
      "M       0.146152 \n",
      "------------------------------------------------------------------------------\n",
      "                  Churned\n",
      "Education_Level          \n",
      "College          0.152024\n",
      "Doctorate        0.210643\n",
      "Graduate         0.155691\n",
      "High School      0.152012\n",
      "Post-Graduate    0.178295\n",
      "Uneducated       0.159381\n",
      "Unknown          0.168532 \n",
      "------------------------------------------------------------------------------\n",
      "                 Churned\n",
      "Marital_Status          \n",
      "Divorced        0.161765\n",
      "Married         0.151269\n",
      "Single          0.169414\n",
      "Unknown         0.172230 \n",
      "------------------------------------------------------------------------------\n",
      "                  Churned\n",
      "Income_Category          \n",
      "$120K +          0.173315\n",
      "$40K - $60K      0.151397\n",
      "$60K - $80K      0.134807\n",
      "$80K - $120K     0.157655\n",
      "Less than $40K   0.171862\n",
      "Unknown          0.168165 \n",
      "------------------------------------------------------------------------------\n",
      "                Churned\n",
      "Card_Category          \n",
      "Blue           0.160979\n",
      "Gold           0.181034\n",
      "Platinum       0.250000\n",
      "Silver         0.147748 \n",
      "------------------------------------------------------------------------------\n",
      "Empty DataFrame\n",
      "Columns: []\n",
      "Index: [0, 1] \n",
      "------------------------------------------------------------------------------\n"
     ]
    },
    {
     "name": "stderr",
     "output_type": "stream",
     "text": [
      "/opt/conda/lib/python3.7/site-packages/IPython/core/interactiveshell.py:3552: FutureWarning: Dropping invalid columns in DataFrameGroupBy.mean is deprecated. In a future version, a TypeError will be raised. Before calling .mean, select only columns which should be valid for the function.\n",
      "  exec(code_obj, self.user_global_ns, self.user_ns)\n"
     ]
    }
   ],
   "source": [
    "#TO GAIN SENSE OF DATASET\n",
    "\n",
    "for column in another[group]:\n",
    "    print(another.groupby(column).mean(),'\\n------------------------------------------------------------------------------')"
   ]
  },
  {
   "cell_type": "markdown",
   "id": "ea767b74",
   "metadata": {
    "papermill": {
     "duration": 0.018913,
     "end_time": "2023-01-06T04:23:53.315370",
     "exception": false,
     "start_time": "2023-01-06T04:23:53.296457",
     "status": "completed"
    },
    "tags": []
   },
   "source": [
    "Here every feature in cat_cols_names\n",
    "can be one hot encoded"
   ]
  },
  {
   "cell_type": "code",
   "execution_count": 19,
   "id": "442eaffe",
   "metadata": {
    "execution": {
     "iopub.execute_input": "2023-01-06T04:23:53.354256Z",
     "iopub.status.busy": "2023-01-06T04:23:53.353805Z",
     "iopub.status.idle": "2023-01-06T04:23:53.359463Z",
     "shell.execute_reply": "2023-01-06T04:23:53.358119Z"
    },
    "papermill": {
     "duration": 0.02841,
     "end_time": "2023-01-06T04:23:53.362054",
     "exception": false,
     "start_time": "2023-01-06T04:23:53.333644",
     "status": "completed"
    },
    "tags": []
   },
   "outputs": [],
   "source": [
    "cat_cols_names.remove('Churned')"
   ]
  },
  {
   "cell_type": "code",
   "execution_count": 20,
   "id": "ec6c6ce2",
   "metadata": {
    "execution": {
     "iopub.execute_input": "2023-01-06T04:23:53.401651Z",
     "iopub.status.busy": "2023-01-06T04:23:53.400845Z",
     "iopub.status.idle": "2023-01-06T04:23:53.414269Z",
     "shell.execute_reply": "2023-01-06T04:23:53.412618Z"
    },
    "papermill": {
     "duration": 0.036721,
     "end_time": "2023-01-06T04:23:53.416984",
     "exception": false,
     "start_time": "2023-01-06T04:23:53.380263",
     "status": "completed"
    },
    "tags": []
   },
   "outputs": [
    {
     "data": {
      "text/html": [
       "<div>\n",
       "<style scoped>\n",
       "    .dataframe tbody tr th:only-of-type {\n",
       "        vertical-align: middle;\n",
       "    }\n",
       "\n",
       "    .dataframe tbody tr th {\n",
       "        vertical-align: top;\n",
       "    }\n",
       "\n",
       "    .dataframe thead th {\n",
       "        text-align: right;\n",
       "    }\n",
       "</style>\n",
       "<table border=\"1\" class=\"dataframe\">\n",
       "  <thead>\n",
       "    <tr style=\"text-align: right;\">\n",
       "      <th></th>\n",
       "      <th>Gender</th>\n",
       "      <th>Education_Level</th>\n",
       "      <th>Marital_Status</th>\n",
       "      <th>Income_Category</th>\n",
       "      <th>Card_Category</th>\n",
       "    </tr>\n",
       "  </thead>\n",
       "  <tbody>\n",
       "    <tr>\n",
       "      <th>0</th>\n",
       "      <td>M</td>\n",
       "      <td>High School</td>\n",
       "      <td>Married</td>\n",
       "      <td>$60K - $80K</td>\n",
       "      <td>Blue</td>\n",
       "    </tr>\n",
       "    <tr>\n",
       "      <th>1</th>\n",
       "      <td>F</td>\n",
       "      <td>Graduate</td>\n",
       "      <td>Single</td>\n",
       "      <td>Less than $40K</td>\n",
       "      <td>Blue</td>\n",
       "    </tr>\n",
       "    <tr>\n",
       "      <th>2</th>\n",
       "      <td>M</td>\n",
       "      <td>Graduate</td>\n",
       "      <td>Married</td>\n",
       "      <td>$80K - $120K</td>\n",
       "      <td>Blue</td>\n",
       "    </tr>\n",
       "    <tr>\n",
       "      <th>3</th>\n",
       "      <td>F</td>\n",
       "      <td>High School</td>\n",
       "      <td>Unknown</td>\n",
       "      <td>Less than $40K</td>\n",
       "      <td>Blue</td>\n",
       "    </tr>\n",
       "    <tr>\n",
       "      <th>4</th>\n",
       "      <td>M</td>\n",
       "      <td>Uneducated</td>\n",
       "      <td>Married</td>\n",
       "      <td>$60K - $80K</td>\n",
       "      <td>Blue</td>\n",
       "    </tr>\n",
       "  </tbody>\n",
       "</table>\n",
       "</div>"
      ],
      "text/plain": [
       "  Gender Education_Level Marital_Status Income_Category Card_Category\n",
       "0      M     High School        Married     $60K - $80K          Blue\n",
       "1      F        Graduate         Single  Less than $40K          Blue\n",
       "2      M        Graduate        Married    $80K - $120K          Blue\n",
       "3      F     High School        Unknown  Less than $40K          Blue\n",
       "4      M      Uneducated        Married     $60K - $80K          Blue"
      ]
     },
     "execution_count": 20,
     "metadata": {},
     "output_type": "execute_result"
    }
   ],
   "source": [
    "cat_cols.head()"
   ]
  },
  {
   "cell_type": "code",
   "execution_count": 21,
   "id": "d7a02f24",
   "metadata": {
    "execution": {
     "iopub.execute_input": "2023-01-06T04:23:53.457212Z",
     "iopub.status.busy": "2023-01-06T04:23:53.456229Z",
     "iopub.status.idle": "2023-01-06T04:23:53.481250Z",
     "shell.execute_reply": "2023-01-06T04:23:53.480123Z"
    },
    "papermill": {
     "duration": 0.047464,
     "end_time": "2023-01-06T04:23:53.483815",
     "exception": false,
     "start_time": "2023-01-06T04:23:53.436351",
     "status": "completed"
    },
    "tags": []
   },
   "outputs": [],
   "source": [
    "\n",
    "\n",
    "#applying encoding\n",
    "ohe.fit(cat_cols[cat_cols_names].values)\n",
    "encoded_cols = ohe.transform(cat_cols[cat_cols_names].values)\n"
   ]
  },
  {
   "cell_type": "code",
   "execution_count": 22,
   "id": "b17ec06b",
   "metadata": {
    "execution": {
     "iopub.execute_input": "2023-01-06T04:23:53.523906Z",
     "iopub.status.busy": "2023-01-06T04:23:53.523402Z",
     "iopub.status.idle": "2023-01-06T04:23:53.531058Z",
     "shell.execute_reply": "2023-01-06T04:23:53.529780Z"
    },
    "papermill": {
     "duration": 0.030649,
     "end_time": "2023-01-06T04:23:53.533486",
     "exception": false,
     "start_time": "2023-01-06T04:23:53.502837",
     "status": "completed"
    },
    "tags": []
   },
   "outputs": [
    {
     "name": "stdout",
     "output_type": "stream",
     "text": [
      "(10127, 23)\n"
     ]
    },
    {
     "data": {
      "text/plain": [
       "scipy.sparse.csr.csr_matrix"
      ]
     },
     "execution_count": 22,
     "metadata": {},
     "output_type": "execute_result"
    }
   ],
   "source": [
    "print(encoded_cols.shape)\n",
    "\n",
    "type(encoded_cols)"
   ]
  },
  {
   "cell_type": "code",
   "execution_count": 23,
   "id": "51609136",
   "metadata": {
    "execution": {
     "iopub.execute_input": "2023-01-06T04:23:53.574062Z",
     "iopub.status.busy": "2023-01-06T04:23:53.573548Z",
     "iopub.status.idle": "2023-01-06T04:23:53.582679Z",
     "shell.execute_reply": "2023-01-06T04:23:53.581569Z"
    },
    "papermill": {
     "duration": 0.032459,
     "end_time": "2023-01-06T04:23:53.585503",
     "exception": false,
     "start_time": "2023-01-06T04:23:53.553044",
     "status": "completed"
    },
    "tags": []
   },
   "outputs": [],
   "source": [
    "encoded_array = encoded_cols.toarray()\n"
   ]
  },
  {
   "cell_type": "code",
   "execution_count": 24,
   "id": "105ee233",
   "metadata": {
    "execution": {
     "iopub.execute_input": "2023-01-06T04:23:53.625998Z",
     "iopub.status.busy": "2023-01-06T04:23:53.625496Z",
     "iopub.status.idle": "2023-01-06T04:23:53.661731Z",
     "shell.execute_reply": "2023-01-06T04:23:53.660071Z"
    },
    "papermill": {
     "duration": 0.059873,
     "end_time": "2023-01-06T04:23:53.664250",
     "exception": false,
     "start_time": "2023-01-06T04:23:53.604377",
     "status": "completed"
    },
    "tags": []
   },
   "outputs": [
    {
     "name": "stdout",
     "output_type": "stream",
     "text": [
      "(10127, 23)\n"
     ]
    },
    {
     "data": {
      "text/html": [
       "<div>\n",
       "<style scoped>\n",
       "    .dataframe tbody tr th:only-of-type {\n",
       "        vertical-align: middle;\n",
       "    }\n",
       "\n",
       "    .dataframe tbody tr th {\n",
       "        vertical-align: top;\n",
       "    }\n",
       "\n",
       "    .dataframe thead th {\n",
       "        text-align: right;\n",
       "    }\n",
       "</style>\n",
       "<table border=\"1\" class=\"dataframe\">\n",
       "  <thead>\n",
       "    <tr style=\"text-align: right;\">\n",
       "      <th></th>\n",
       "      <th>0</th>\n",
       "      <th>1</th>\n",
       "      <th>2</th>\n",
       "      <th>3</th>\n",
       "      <th>4</th>\n",
       "      <th>5</th>\n",
       "      <th>6</th>\n",
       "      <th>7</th>\n",
       "      <th>8</th>\n",
       "      <th>9</th>\n",
       "      <th>...</th>\n",
       "      <th>13</th>\n",
       "      <th>14</th>\n",
       "      <th>15</th>\n",
       "      <th>16</th>\n",
       "      <th>17</th>\n",
       "      <th>18</th>\n",
       "      <th>19</th>\n",
       "      <th>20</th>\n",
       "      <th>21</th>\n",
       "      <th>22</th>\n",
       "    </tr>\n",
       "  </thead>\n",
       "  <tbody>\n",
       "    <tr>\n",
       "      <th>0</th>\n",
       "      <td>0.0</td>\n",
       "      <td>1.0</td>\n",
       "      <td>0.0</td>\n",
       "      <td>0.0</td>\n",
       "      <td>0.0</td>\n",
       "      <td>1.0</td>\n",
       "      <td>0.0</td>\n",
       "      <td>0.0</td>\n",
       "      <td>0.0</td>\n",
       "      <td>0.0</td>\n",
       "      <td>...</td>\n",
       "      <td>0.0</td>\n",
       "      <td>0.0</td>\n",
       "      <td>1.0</td>\n",
       "      <td>0.0</td>\n",
       "      <td>0.0</td>\n",
       "      <td>0.0</td>\n",
       "      <td>1.0</td>\n",
       "      <td>0.0</td>\n",
       "      <td>0.0</td>\n",
       "      <td>0.0</td>\n",
       "    </tr>\n",
       "    <tr>\n",
       "      <th>1</th>\n",
       "      <td>1.0</td>\n",
       "      <td>0.0</td>\n",
       "      <td>0.0</td>\n",
       "      <td>0.0</td>\n",
       "      <td>1.0</td>\n",
       "      <td>0.0</td>\n",
       "      <td>0.0</td>\n",
       "      <td>0.0</td>\n",
       "      <td>0.0</td>\n",
       "      <td>0.0</td>\n",
       "      <td>...</td>\n",
       "      <td>0.0</td>\n",
       "      <td>0.0</td>\n",
       "      <td>0.0</td>\n",
       "      <td>0.0</td>\n",
       "      <td>1.0</td>\n",
       "      <td>0.0</td>\n",
       "      <td>1.0</td>\n",
       "      <td>0.0</td>\n",
       "      <td>0.0</td>\n",
       "      <td>0.0</td>\n",
       "    </tr>\n",
       "    <tr>\n",
       "      <th>2</th>\n",
       "      <td>0.0</td>\n",
       "      <td>1.0</td>\n",
       "      <td>0.0</td>\n",
       "      <td>0.0</td>\n",
       "      <td>1.0</td>\n",
       "      <td>0.0</td>\n",
       "      <td>0.0</td>\n",
       "      <td>0.0</td>\n",
       "      <td>0.0</td>\n",
       "      <td>0.0</td>\n",
       "      <td>...</td>\n",
       "      <td>0.0</td>\n",
       "      <td>0.0</td>\n",
       "      <td>0.0</td>\n",
       "      <td>1.0</td>\n",
       "      <td>0.0</td>\n",
       "      <td>0.0</td>\n",
       "      <td>1.0</td>\n",
       "      <td>0.0</td>\n",
       "      <td>0.0</td>\n",
       "      <td>0.0</td>\n",
       "    </tr>\n",
       "    <tr>\n",
       "      <th>3</th>\n",
       "      <td>1.0</td>\n",
       "      <td>0.0</td>\n",
       "      <td>0.0</td>\n",
       "      <td>0.0</td>\n",
       "      <td>0.0</td>\n",
       "      <td>1.0</td>\n",
       "      <td>0.0</td>\n",
       "      <td>0.0</td>\n",
       "      <td>0.0</td>\n",
       "      <td>0.0</td>\n",
       "      <td>...</td>\n",
       "      <td>0.0</td>\n",
       "      <td>0.0</td>\n",
       "      <td>0.0</td>\n",
       "      <td>0.0</td>\n",
       "      <td>1.0</td>\n",
       "      <td>0.0</td>\n",
       "      <td>1.0</td>\n",
       "      <td>0.0</td>\n",
       "      <td>0.0</td>\n",
       "      <td>0.0</td>\n",
       "    </tr>\n",
       "    <tr>\n",
       "      <th>4</th>\n",
       "      <td>0.0</td>\n",
       "      <td>1.0</td>\n",
       "      <td>0.0</td>\n",
       "      <td>0.0</td>\n",
       "      <td>0.0</td>\n",
       "      <td>0.0</td>\n",
       "      <td>0.0</td>\n",
       "      <td>1.0</td>\n",
       "      <td>0.0</td>\n",
       "      <td>0.0</td>\n",
       "      <td>...</td>\n",
       "      <td>0.0</td>\n",
       "      <td>0.0</td>\n",
       "      <td>1.0</td>\n",
       "      <td>0.0</td>\n",
       "      <td>0.0</td>\n",
       "      <td>0.0</td>\n",
       "      <td>1.0</td>\n",
       "      <td>0.0</td>\n",
       "      <td>0.0</td>\n",
       "      <td>0.0</td>\n",
       "    </tr>\n",
       "  </tbody>\n",
       "</table>\n",
       "<p>5 rows × 23 columns</p>\n",
       "</div>"
      ],
      "text/plain": [
       "    0    1    2    3    4    5    6    7    8    9   ...   13   14   15   16  \\\n",
       "0  0.0  1.0  0.0  0.0  0.0  1.0  0.0  0.0  0.0  0.0  ...  0.0  0.0  1.0  0.0   \n",
       "1  1.0  0.0  0.0  0.0  1.0  0.0  0.0  0.0  0.0  0.0  ...  0.0  0.0  0.0  0.0   \n",
       "2  0.0  1.0  0.0  0.0  1.0  0.0  0.0  0.0  0.0  0.0  ...  0.0  0.0  0.0  1.0   \n",
       "3  1.0  0.0  0.0  0.0  0.0  1.0  0.0  0.0  0.0  0.0  ...  0.0  0.0  0.0  0.0   \n",
       "4  0.0  1.0  0.0  0.0  0.0  0.0  0.0  1.0  0.0  0.0  ...  0.0  0.0  1.0  0.0   \n",
       "\n",
       "    17   18   19   20   21   22  \n",
       "0  0.0  0.0  1.0  0.0  0.0  0.0  \n",
       "1  1.0  0.0  1.0  0.0  0.0  0.0  \n",
       "2  0.0  0.0  1.0  0.0  0.0  0.0  \n",
       "3  1.0  0.0  1.0  0.0  0.0  0.0  \n",
       "4  0.0  0.0  1.0  0.0  0.0  0.0  \n",
       "\n",
       "[5 rows x 23 columns]"
      ]
     },
     "execution_count": 24,
     "metadata": {},
     "output_type": "execute_result"
    }
   ],
   "source": [
    "encoded_df = pd.DataFrame(encoded_array)\n",
    "print(encoded_df.shape)\n",
    "encoded_df.head()"
   ]
  },
  {
   "cell_type": "markdown",
   "id": "9144e708",
   "metadata": {
    "papermill": {
     "duration": 0.018672,
     "end_time": "2023-01-06T04:23:53.702784",
     "exception": false,
     "start_time": "2023-01-06T04:23:53.684112",
     "status": "completed"
    },
    "tags": []
   },
   "source": [
    "SUCCESSFULLY ONE HOT ENCODED"
   ]
  },
  {
   "cell_type": "code",
   "execution_count": 25,
   "id": "d5c890d8",
   "metadata": {
    "execution": {
     "iopub.execute_input": "2023-01-06T04:23:53.742881Z",
     "iopub.status.busy": "2023-01-06T04:23:53.742394Z",
     "iopub.status.idle": "2023-01-06T04:23:53.754364Z",
     "shell.execute_reply": "2023-01-06T04:23:53.752834Z"
    },
    "papermill": {
     "duration": 0.035265,
     "end_time": "2023-01-06T04:23:53.756957",
     "exception": false,
     "start_time": "2023-01-06T04:23:53.721692",
     "status": "completed"
    },
    "tags": []
   },
   "outputs": [
    {
     "name": "stdout",
     "output_type": "stream",
     "text": [
      "(10127, 5)\n"
     ]
    }
   ],
   "source": [
    "inverse_encoded = ohe.inverse_transform(encoded_array)\n",
    "print(inverse_encoded.shape)"
   ]
  },
  {
   "cell_type": "markdown",
   "id": "05c5fda6",
   "metadata": {
    "papermill": {
     "duration": 0.019161,
     "end_time": "2023-01-06T04:23:53.795813",
     "exception": false,
     "start_time": "2023-01-06T04:23:53.776652",
     "status": "completed"
    },
    "tags": []
   },
   "source": [
    "EXPLORING CONTINUOUS FEATURES"
   ]
  },
  {
   "cell_type": "code",
   "execution_count": 26,
   "id": "43654325",
   "metadata": {
    "execution": {
     "iopub.execute_input": "2023-01-06T04:23:53.837536Z",
     "iopub.status.busy": "2023-01-06T04:23:53.837082Z",
     "iopub.status.idle": "2023-01-06T04:23:53.858089Z",
     "shell.execute_reply": "2023-01-06T04:23:53.856916Z"
    },
    "papermill": {
     "duration": 0.045182,
     "end_time": "2023-01-06T04:23:53.860660",
     "exception": false,
     "start_time": "2023-01-06T04:23:53.815478",
     "status": "completed"
    },
    "tags": []
   },
   "outputs": [
    {
     "data": {
      "text/html": [
       "<div>\n",
       "<style scoped>\n",
       "    .dataframe tbody tr th:only-of-type {\n",
       "        vertical-align: middle;\n",
       "    }\n",
       "\n",
       "    .dataframe tbody tr th {\n",
       "        vertical-align: top;\n",
       "    }\n",
       "\n",
       "    .dataframe thead th {\n",
       "        text-align: right;\n",
       "    }\n",
       "</style>\n",
       "<table border=\"1\" class=\"dataframe\">\n",
       "  <thead>\n",
       "    <tr style=\"text-align: right;\">\n",
       "      <th></th>\n",
       "      <th>Churned</th>\n",
       "      <th>Customer_Age</th>\n",
       "      <th>Dependent_count</th>\n",
       "      <th>Months_on_book</th>\n",
       "      <th>Total_Relationship_Count</th>\n",
       "      <th>Months_Inactive_12_mon</th>\n",
       "      <th>Contacts_Count_12_mon</th>\n",
       "      <th>Credit_Limit</th>\n",
       "      <th>Total_Revolving_Bal</th>\n",
       "      <th>Avg_Open_To_Buy</th>\n",
       "      <th>Total_Amt_Chng_Q4_Q1</th>\n",
       "      <th>Total_Trans_Amt</th>\n",
       "      <th>Total_Trans_Ct</th>\n",
       "      <th>Total_Ct_Chng_Q4_Q1</th>\n",
       "      <th>Avg_Utilization_Ratio</th>\n",
       "      <th>Bayes1</th>\n",
       "      <th>Bayes2</th>\n",
       "    </tr>\n",
       "  </thead>\n",
       "  <tbody>\n",
       "    <tr>\n",
       "      <th>0</th>\n",
       "      <td>0</td>\n",
       "      <td>45</td>\n",
       "      <td>3</td>\n",
       "      <td>39</td>\n",
       "      <td>5</td>\n",
       "      <td>1</td>\n",
       "      <td>3</td>\n",
       "      <td>12691.0</td>\n",
       "      <td>777</td>\n",
       "      <td>11914.0</td>\n",
       "      <td>1.335</td>\n",
       "      <td>1144</td>\n",
       "      <td>42</td>\n",
       "      <td>1.625</td>\n",
       "      <td>0.061</td>\n",
       "      <td>0.000093</td>\n",
       "      <td>0.99991</td>\n",
       "    </tr>\n",
       "    <tr>\n",
       "      <th>1</th>\n",
       "      <td>0</td>\n",
       "      <td>49</td>\n",
       "      <td>5</td>\n",
       "      <td>44</td>\n",
       "      <td>6</td>\n",
       "      <td>1</td>\n",
       "      <td>2</td>\n",
       "      <td>8256.0</td>\n",
       "      <td>864</td>\n",
       "      <td>7392.0</td>\n",
       "      <td>1.541</td>\n",
       "      <td>1291</td>\n",
       "      <td>33</td>\n",
       "      <td>3.714</td>\n",
       "      <td>0.105</td>\n",
       "      <td>0.000057</td>\n",
       "      <td>0.99994</td>\n",
       "    </tr>\n",
       "    <tr>\n",
       "      <th>2</th>\n",
       "      <td>0</td>\n",
       "      <td>51</td>\n",
       "      <td>3</td>\n",
       "      <td>36</td>\n",
       "      <td>4</td>\n",
       "      <td>1</td>\n",
       "      <td>0</td>\n",
       "      <td>3418.0</td>\n",
       "      <td>0</td>\n",
       "      <td>3418.0</td>\n",
       "      <td>2.594</td>\n",
       "      <td>1887</td>\n",
       "      <td>20</td>\n",
       "      <td>2.333</td>\n",
       "      <td>0.000</td>\n",
       "      <td>0.000021</td>\n",
       "      <td>0.99998</td>\n",
       "    </tr>\n",
       "    <tr>\n",
       "      <th>3</th>\n",
       "      <td>0</td>\n",
       "      <td>40</td>\n",
       "      <td>4</td>\n",
       "      <td>34</td>\n",
       "      <td>3</td>\n",
       "      <td>4</td>\n",
       "      <td>1</td>\n",
       "      <td>3313.0</td>\n",
       "      <td>2517</td>\n",
       "      <td>796.0</td>\n",
       "      <td>1.405</td>\n",
       "      <td>1171</td>\n",
       "      <td>20</td>\n",
       "      <td>2.333</td>\n",
       "      <td>0.760</td>\n",
       "      <td>0.000134</td>\n",
       "      <td>0.99987</td>\n",
       "    </tr>\n",
       "    <tr>\n",
       "      <th>4</th>\n",
       "      <td>0</td>\n",
       "      <td>40</td>\n",
       "      <td>3</td>\n",
       "      <td>21</td>\n",
       "      <td>5</td>\n",
       "      <td>1</td>\n",
       "      <td>0</td>\n",
       "      <td>4716.0</td>\n",
       "      <td>0</td>\n",
       "      <td>4716.0</td>\n",
       "      <td>2.175</td>\n",
       "      <td>816</td>\n",
       "      <td>28</td>\n",
       "      <td>2.500</td>\n",
       "      <td>0.000</td>\n",
       "      <td>0.000022</td>\n",
       "      <td>0.99998</td>\n",
       "    </tr>\n",
       "  </tbody>\n",
       "</table>\n",
       "</div>"
      ],
      "text/plain": [
       "   Churned  Customer_Age  Dependent_count  Months_on_book  \\\n",
       "0        0            45                3              39   \n",
       "1        0            49                5              44   \n",
       "2        0            51                3              36   \n",
       "3        0            40                4              34   \n",
       "4        0            40                3              21   \n",
       "\n",
       "   Total_Relationship_Count  Months_Inactive_12_mon  Contacts_Count_12_mon  \\\n",
       "0                         5                       1                      3   \n",
       "1                         6                       1                      2   \n",
       "2                         4                       1                      0   \n",
       "3                         3                       4                      1   \n",
       "4                         5                       1                      0   \n",
       "\n",
       "   Credit_Limit  Total_Revolving_Bal  Avg_Open_To_Buy  Total_Amt_Chng_Q4_Q1  \\\n",
       "0       12691.0                  777          11914.0                 1.335   \n",
       "1        8256.0                  864           7392.0                 1.541   \n",
       "2        3418.0                    0           3418.0                 2.594   \n",
       "3        3313.0                 2517            796.0                 1.405   \n",
       "4        4716.0                    0           4716.0                 2.175   \n",
       "\n",
       "   Total_Trans_Amt  Total_Trans_Ct  Total_Ct_Chng_Q4_Q1  \\\n",
       "0             1144              42                1.625   \n",
       "1             1291              33                3.714   \n",
       "2             1887              20                2.333   \n",
       "3             1171              20                2.333   \n",
       "4              816              28                2.500   \n",
       "\n",
       "   Avg_Utilization_Ratio    Bayes1   Bayes2  \n",
       "0                  0.061  0.000093  0.99991  \n",
       "1                  0.105  0.000057  0.99994  \n",
       "2                  0.000  0.000021  0.99998  \n",
       "3                  0.760  0.000134  0.99987  \n",
       "4                  0.000  0.000022  0.99998  "
      ]
     },
     "execution_count": 26,
     "metadata": {},
     "output_type": "execute_result"
    }
   ],
   "source": [
    "cont_cols.head()"
   ]
  },
  {
   "cell_type": "code",
   "execution_count": 27,
   "id": "a1d21d83",
   "metadata": {
    "execution": {
     "iopub.execute_input": "2023-01-06T04:23:53.902022Z",
     "iopub.status.busy": "2023-01-06T04:23:53.901245Z",
     "iopub.status.idle": "2023-01-06T04:23:53.907699Z",
     "shell.execute_reply": "2023-01-06T04:23:53.906375Z"
    },
    "papermill": {
     "duration": 0.030055,
     "end_time": "2023-01-06T04:23:53.910390",
     "exception": false,
     "start_time": "2023-01-06T04:23:53.880335",
     "status": "completed"
    },
    "tags": []
   },
   "outputs": [
    {
     "name": "stdout",
     "output_type": "stream",
     "text": [
      "['Churned', 'Customer_Age', 'Dependent_count', 'Months_on_book', 'Total_Relationship_Count', 'Months_Inactive_12_mon', 'Contacts_Count_12_mon', 'Credit_Limit', 'Total_Revolving_Bal', 'Avg_Open_To_Buy', 'Total_Amt_Chng_Q4_Q1', 'Total_Trans_Amt', 'Total_Trans_Ct', 'Total_Ct_Chng_Q4_Q1', 'Avg_Utilization_Ratio', 'Bayes1', 'Bayes2']\n"
     ]
    }
   ],
   "source": [
    "cont_cols_names = list(cont_cols.columns)\n",
    "print(cont_cols_names)"
   ]
  },
  {
   "cell_type": "markdown",
   "id": "43b1f91e",
   "metadata": {
    "papermill": {
     "duration": 0.019402,
     "end_time": "2023-01-06T04:23:53.949410",
     "exception": false,
     "start_time": "2023-01-06T04:23:53.930008",
     "status": "completed"
    },
    "tags": []
   },
   "source": [
    "CHECKING THE CONTINUOUS FEATURES DISTRIBUTION THROUGH skew() and kurt() method AND LATER THROUGH VISUALISATION"
   ]
  },
  {
   "cell_type": "code",
   "execution_count": 28,
   "id": "0a0688cc",
   "metadata": {
    "execution": {
     "iopub.execute_input": "2023-01-06T04:23:53.992483Z",
     "iopub.status.busy": "2023-01-06T04:23:53.991385Z",
     "iopub.status.idle": "2023-01-06T04:23:54.181161Z",
     "shell.execute_reply": "2023-01-06T04:23:54.179745Z"
    },
    "papermill": {
     "duration": 0.215143,
     "end_time": "2023-01-06T04:23:54.184339",
     "exception": false,
     "start_time": "2023-01-06T04:23:53.969196",
     "status": "completed"
    },
    "tags": []
   },
   "outputs": [],
   "source": [
    "import matplotlib.pyplot  as plt\n",
    "import seaborn as sns\n",
    "    "
   ]
  },
  {
   "cell_type": "code",
   "execution_count": 29,
   "id": "8d27dfc9",
   "metadata": {
    "execution": {
     "iopub.execute_input": "2023-01-06T04:23:54.226114Z",
     "iopub.status.busy": "2023-01-06T04:23:54.225696Z",
     "iopub.status.idle": "2023-01-06T04:23:54.242079Z",
     "shell.execute_reply": "2023-01-06T04:23:54.241002Z"
    },
    "papermill": {
     "duration": 0.039965,
     "end_time": "2023-01-06T04:23:54.244803",
     "exception": false,
     "start_time": "2023-01-06T04:23:54.204838",
     "status": "completed"
    },
    "tags": []
   },
   "outputs": [],
   "source": [
    "skew = []\n",
    "kurt = []\n",
    "for column in cont_cols_names:\n",
    "    s = cont_cols[column].skew()\n",
    "    k = cont_cols[column].kurt()\n",
    "    skew.append(s)\n",
    "    kurt.append(k)\n",
    "  "
   ]
  },
  {
   "cell_type": "code",
   "execution_count": 30,
   "id": "4822f251",
   "metadata": {
    "execution": {
     "iopub.execute_input": "2023-01-06T04:23:54.287115Z",
     "iopub.status.busy": "2023-01-06T04:23:54.286691Z",
     "iopub.status.idle": "2023-01-06T04:23:54.303892Z",
     "shell.execute_reply": "2023-01-06T04:23:54.302600Z"
    },
    "papermill": {
     "duration": 0.041297,
     "end_time": "2023-01-06T04:23:54.306273",
     "exception": false,
     "start_time": "2023-01-06T04:23:54.264976",
     "status": "completed"
    },
    "tags": []
   },
   "outputs": [
    {
     "data": {
      "text/html": [
       "<div>\n",
       "<style scoped>\n",
       "    .dataframe tbody tr th:only-of-type {\n",
       "        vertical-align: middle;\n",
       "    }\n",
       "\n",
       "    .dataframe tbody tr th {\n",
       "        vertical-align: top;\n",
       "    }\n",
       "\n",
       "    .dataframe thead th {\n",
       "        text-align: right;\n",
       "    }\n",
       "</style>\n",
       "<table border=\"1\" class=\"dataframe\">\n",
       "  <thead>\n",
       "    <tr style=\"text-align: right;\">\n",
       "      <th></th>\n",
       "      <th>0</th>\n",
       "    </tr>\n",
       "  </thead>\n",
       "  <tbody>\n",
       "    <tr>\n",
       "      <th>0</th>\n",
       "      <td>True</td>\n",
       "    </tr>\n",
       "    <tr>\n",
       "      <th>1</th>\n",
       "      <td>False</td>\n",
       "    </tr>\n",
       "    <tr>\n",
       "      <th>2</th>\n",
       "      <td>False</td>\n",
       "    </tr>\n",
       "    <tr>\n",
       "      <th>3</th>\n",
       "      <td>False</td>\n",
       "    </tr>\n",
       "    <tr>\n",
       "      <th>4</th>\n",
       "      <td>False</td>\n",
       "    </tr>\n",
       "  </tbody>\n",
       "</table>\n",
       "</div>"
      ],
      "text/plain": [
       "       0\n",
       "0   True\n",
       "1  False\n",
       "2  False\n",
       "3  False\n",
       "4  False"
      ]
     },
     "execution_count": 30,
     "metadata": {},
     "output_type": "execute_result"
    }
   ],
   "source": [
    "skewness = pd.DataFrame(skew)\n",
    "kurtosis = pd.DataFrame(kurt)\n",
    "\n",
    "\n",
    "to_be_normalised = pd.DataFrame((skewness.iloc[:,0]<-0.6) | (skewness.iloc[:,0]>(0.6)))\n",
    "to_be_normalised.rename({0: 'to_be_normalised'} ,axis = 1)\n",
    "to_be_normalised.head()\n"
   ]
  },
  {
   "cell_type": "code",
   "execution_count": 31,
   "id": "f0a10e4a",
   "metadata": {
    "execution": {
     "iopub.execute_input": "2023-01-06T04:23:54.348146Z",
     "iopub.status.busy": "2023-01-06T04:23:54.347737Z",
     "iopub.status.idle": "2023-01-06T04:23:54.354127Z",
     "shell.execute_reply": "2023-01-06T04:23:54.352987Z"
    },
    "papermill": {
     "duration": 0.030153,
     "end_time": "2023-01-06T04:23:54.356692",
     "exception": false,
     "start_time": "2023-01-06T04:23:54.326539",
     "status": "completed"
    },
    "tags": []
   },
   "outputs": [],
   "source": [
    "distribution = pd.concat([skewness, kurtosis, pd.DataFrame(cont_cols_names),to_be_normalised], \n",
    "                         axis = 1,\n",
    "                         names = ['Skewness','Kurtosis','Columns','to_be_normalised']\n",
    "                       )\n",
    "\n"
   ]
  },
  {
   "cell_type": "code",
   "execution_count": 32,
   "id": "8998b268",
   "metadata": {
    "execution": {
     "iopub.execute_input": "2023-01-06T04:23:54.398688Z",
     "iopub.status.busy": "2023-01-06T04:23:54.398213Z",
     "iopub.status.idle": "2023-01-06T04:23:54.414095Z",
     "shell.execute_reply": "2023-01-06T04:23:54.412593Z"
    },
    "papermill": {
     "duration": 0.040761,
     "end_time": "2023-01-06T04:23:54.416891",
     "exception": false,
     "start_time": "2023-01-06T04:23:54.376130",
     "status": "completed"
    },
    "tags": []
   },
   "outputs": [
    {
     "name": "stdout",
     "output_type": "stream",
     "text": [
      "S.N. SKEWNESS KURTOSIS    COLUMNS   to_be_normalised\n"
     ]
    },
    {
     "data": {
      "text/html": [
       "<div>\n",
       "<style scoped>\n",
       "    .dataframe tbody tr th:only-of-type {\n",
       "        vertical-align: middle;\n",
       "    }\n",
       "\n",
       "    .dataframe tbody tr th {\n",
       "        vertical-align: top;\n",
       "    }\n",
       "\n",
       "    .dataframe thead th {\n",
       "        text-align: right;\n",
       "    }\n",
       "</style>\n",
       "<table border=\"1\" class=\"dataframe\">\n",
       "  <thead>\n",
       "    <tr style=\"text-align: right;\">\n",
       "      <th></th>\n",
       "      <th>0</th>\n",
       "      <th>0</th>\n",
       "      <th>0</th>\n",
       "      <th>0</th>\n",
       "    </tr>\n",
       "  </thead>\n",
       "  <tbody>\n",
       "    <tr>\n",
       "      <th>0</th>\n",
       "      <td>1.848449</td>\n",
       "      <td>1.417043</td>\n",
       "      <td>Churned</td>\n",
       "      <td>True</td>\n",
       "    </tr>\n",
       "    <tr>\n",
       "      <th>1</th>\n",
       "      <td>-0.033605</td>\n",
       "      <td>-0.288620</td>\n",
       "      <td>Customer_Age</td>\n",
       "      <td>False</td>\n",
       "    </tr>\n",
       "    <tr>\n",
       "      <th>2</th>\n",
       "      <td>-0.020826</td>\n",
       "      <td>-0.683017</td>\n",
       "      <td>Dependent_count</td>\n",
       "      <td>False</td>\n",
       "    </tr>\n",
       "    <tr>\n",
       "      <th>3</th>\n",
       "      <td>-0.106565</td>\n",
       "      <td>0.400100</td>\n",
       "      <td>Months_on_book</td>\n",
       "      <td>False</td>\n",
       "    </tr>\n",
       "    <tr>\n",
       "      <th>4</th>\n",
       "      <td>-0.162452</td>\n",
       "      <td>-1.006131</td>\n",
       "      <td>Total_Relationship_Count</td>\n",
       "      <td>False</td>\n",
       "    </tr>\n",
       "    <tr>\n",
       "      <th>5</th>\n",
       "      <td>0.633061</td>\n",
       "      <td>1.098523</td>\n",
       "      <td>Months_Inactive_12_mon</td>\n",
       "      <td>True</td>\n",
       "    </tr>\n",
       "    <tr>\n",
       "      <th>6</th>\n",
       "      <td>0.011006</td>\n",
       "      <td>0.000863</td>\n",
       "      <td>Contacts_Count_12_mon</td>\n",
       "      <td>False</td>\n",
       "    </tr>\n",
       "    <tr>\n",
       "      <th>7</th>\n",
       "      <td>1.666726</td>\n",
       "      <td>1.808989</td>\n",
       "      <td>Credit_Limit</td>\n",
       "      <td>True</td>\n",
       "    </tr>\n",
       "    <tr>\n",
       "      <th>8</th>\n",
       "      <td>-0.148837</td>\n",
       "      <td>-1.145992</td>\n",
       "      <td>Total_Revolving_Bal</td>\n",
       "      <td>False</td>\n",
       "    </tr>\n",
       "    <tr>\n",
       "      <th>9</th>\n",
       "      <td>1.661697</td>\n",
       "      <td>1.798617</td>\n",
       "      <td>Avg_Open_To_Buy</td>\n",
       "      <td>True</td>\n",
       "    </tr>\n",
       "    <tr>\n",
       "      <th>10</th>\n",
       "      <td>1.732063</td>\n",
       "      <td>9.993501</td>\n",
       "      <td>Total_Amt_Chng_Q4_Q1</td>\n",
       "      <td>True</td>\n",
       "    </tr>\n",
       "    <tr>\n",
       "      <th>11</th>\n",
       "      <td>2.041003</td>\n",
       "      <td>3.894023</td>\n",
       "      <td>Total_Trans_Amt</td>\n",
       "      <td>True</td>\n",
       "    </tr>\n",
       "    <tr>\n",
       "      <th>12</th>\n",
       "      <td>0.153673</td>\n",
       "      <td>-0.367163</td>\n",
       "      <td>Total_Trans_Ct</td>\n",
       "      <td>False</td>\n",
       "    </tr>\n",
       "    <tr>\n",
       "      <th>13</th>\n",
       "      <td>2.064031</td>\n",
       "      <td>15.689293</td>\n",
       "      <td>Total_Ct_Chng_Q4_Q1</td>\n",
       "      <td>True</td>\n",
       "    </tr>\n",
       "    <tr>\n",
       "      <th>14</th>\n",
       "      <td>0.718008</td>\n",
       "      <td>-0.794972</td>\n",
       "      <td>Avg_Utilization_Ratio</td>\n",
       "      <td>True</td>\n",
       "    </tr>\n",
       "    <tr>\n",
       "      <th>15</th>\n",
       "      <td>1.848538</td>\n",
       "      <td>1.417535</td>\n",
       "      <td>Bayes1</td>\n",
       "      <td>True</td>\n",
       "    </tr>\n",
       "    <tr>\n",
       "      <th>16</th>\n",
       "      <td>-1.848538</td>\n",
       "      <td>1.417535</td>\n",
       "      <td>Bayes2</td>\n",
       "      <td>True</td>\n",
       "    </tr>\n",
       "  </tbody>\n",
       "</table>\n",
       "</div>"
      ],
      "text/plain": [
       "           0          0                         0      0\n",
       "0   1.848449   1.417043                   Churned   True\n",
       "1  -0.033605  -0.288620              Customer_Age  False\n",
       "2  -0.020826  -0.683017           Dependent_count  False\n",
       "3  -0.106565   0.400100            Months_on_book  False\n",
       "4  -0.162452  -1.006131  Total_Relationship_Count  False\n",
       "5   0.633061   1.098523    Months_Inactive_12_mon   True\n",
       "6   0.011006   0.000863     Contacts_Count_12_mon  False\n",
       "7   1.666726   1.808989              Credit_Limit   True\n",
       "8  -0.148837  -1.145992       Total_Revolving_Bal  False\n",
       "9   1.661697   1.798617           Avg_Open_To_Buy   True\n",
       "10  1.732063   9.993501      Total_Amt_Chng_Q4_Q1   True\n",
       "11  2.041003   3.894023           Total_Trans_Amt   True\n",
       "12  0.153673  -0.367163            Total_Trans_Ct  False\n",
       "13  2.064031  15.689293       Total_Ct_Chng_Q4_Q1   True\n",
       "14  0.718008  -0.794972     Avg_Utilization_Ratio   True\n",
       "15  1.848538   1.417535                    Bayes1   True\n",
       "16 -1.848538   1.417535                    Bayes2   True"
      ]
     },
     "execution_count": 32,
     "metadata": {},
     "output_type": "execute_result"
    }
   ],
   "source": [
    "print('S.N. SKEWNESS KURTOSIS    COLUMNS   to_be_normalised')\n",
    "distribution.head(17)"
   ]
  },
  {
   "cell_type": "markdown",
   "id": "8d8b9ca6",
   "metadata": {
    "papermill": {
     "duration": 0.019423,
     "end_time": "2023-01-06T04:23:54.456167",
     "exception": false,
     "start_time": "2023-01-06T04:23:54.436744",
     "status": "completed"
    },
    "tags": []
   },
   "source": [
    "#### "
   ]
  },
  {
   "cell_type": "markdown",
   "id": "b39ed029",
   "metadata": {
    "papermill": {
     "duration": 0.019681,
     "end_time": "2023-01-06T04:23:54.495721",
     "exception": false,
     "start_time": "2023-01-06T04:23:54.476040",
     "status": "completed"
    },
    "tags": []
   },
   "source": [
    "TIME TO EXPLORE CONTINUOUS FEATURES"
   ]
  },
  {
   "cell_type": "code",
   "execution_count": 33,
   "id": "622a0b51",
   "metadata": {
    "execution": {
     "iopub.execute_input": "2023-01-06T04:23:54.537756Z",
     "iopub.status.busy": "2023-01-06T04:23:54.537315Z",
     "iopub.status.idle": "2023-01-06T04:23:54.543816Z",
     "shell.execute_reply": "2023-01-06T04:23:54.542574Z"
    },
    "papermill": {
     "duration": 0.030551,
     "end_time": "2023-01-06T04:23:54.546388",
     "exception": false,
     "start_time": "2023-01-06T04:23:54.515837",
     "status": "completed"
    },
    "tags": []
   },
   "outputs": [],
   "source": [
    "import matplotlib.pyplot as plt"
   ]
  },
  {
   "cell_type": "code",
   "execution_count": 34,
   "id": "1a6359d1",
   "metadata": {
    "execution": {
     "iopub.execute_input": "2023-01-06T04:23:54.587989Z",
     "iopub.status.busy": "2023-01-06T04:23:54.587530Z",
     "iopub.status.idle": "2023-01-06T04:23:54.593178Z",
     "shell.execute_reply": "2023-01-06T04:23:54.591791Z"
    },
    "papermill": {
     "duration": 0.029788,
     "end_time": "2023-01-06T04:23:54.595933",
     "exception": false,
     "start_time": "2023-01-06T04:23:54.566145",
     "status": "completed"
    },
    "tags": []
   },
   "outputs": [],
   "source": [
    "cont_cols_names.remove('Churned')"
   ]
  },
  {
   "cell_type": "code",
   "execution_count": 35,
   "id": "b98a6561",
   "metadata": {
    "execution": {
     "iopub.execute_input": "2023-01-06T04:23:54.638430Z",
     "iopub.status.busy": "2023-01-06T04:23:54.638036Z",
     "iopub.status.idle": "2023-01-06T04:23:54.648398Z",
     "shell.execute_reply": "2023-01-06T04:23:54.647281Z"
    },
    "papermill": {
     "duration": 0.034735,
     "end_time": "2023-01-06T04:23:54.651034",
     "exception": false,
     "start_time": "2023-01-06T04:23:54.616299",
     "status": "completed"
    },
    "tags": []
   },
   "outputs": [
    {
     "data": {
      "text/html": [
       "<div>\n",
       "<style scoped>\n",
       "    .dataframe tbody tr th:only-of-type {\n",
       "        vertical-align: middle;\n",
       "    }\n",
       "\n",
       "    .dataframe tbody tr th {\n",
       "        vertical-align: top;\n",
       "    }\n",
       "\n",
       "    .dataframe thead th {\n",
       "        text-align: right;\n",
       "    }\n",
       "</style>\n",
       "<table border=\"1\" class=\"dataframe\">\n",
       "  <thead>\n",
       "    <tr style=\"text-align: right;\">\n",
       "      <th></th>\n",
       "      <th>Churned</th>\n",
       "    </tr>\n",
       "  </thead>\n",
       "  <tbody>\n",
       "    <tr>\n",
       "      <th>0</th>\n",
       "      <td>0</td>\n",
       "    </tr>\n",
       "    <tr>\n",
       "      <th>1</th>\n",
       "      <td>0</td>\n",
       "    </tr>\n",
       "    <tr>\n",
       "      <th>2</th>\n",
       "      <td>0</td>\n",
       "    </tr>\n",
       "    <tr>\n",
       "      <th>3</th>\n",
       "      <td>0</td>\n",
       "    </tr>\n",
       "    <tr>\n",
       "      <th>4</th>\n",
       "      <td>0</td>\n",
       "    </tr>\n",
       "  </tbody>\n",
       "</table>\n",
       "</div>"
      ],
      "text/plain": [
       "   Churned\n",
       "0        0\n",
       "1        0\n",
       "2        0\n",
       "3        0\n",
       "4        0"
      ]
     },
     "execution_count": 35,
     "metadata": {},
     "output_type": "execute_result"
    }
   ],
   "source": [
    "y = pd.DataFrame(df['Churned'])\n",
    "y.head()"
   ]
  },
  {
   "cell_type": "code",
   "execution_count": 36,
   "id": "ce67b661",
   "metadata": {
    "execution": {
     "iopub.execute_input": "2023-01-06T04:23:54.694677Z",
     "iopub.status.busy": "2023-01-06T04:23:54.694226Z",
     "iopub.status.idle": "2023-01-06T04:23:54.700477Z",
     "shell.execute_reply": "2023-01-06T04:23:54.699256Z"
    },
    "papermill": {
     "duration": 0.030993,
     "end_time": "2023-01-06T04:23:54.703125",
     "exception": false,
     "start_time": "2023-01-06T04:23:54.672132",
     "status": "completed"
    },
    "tags": []
   },
   "outputs": [],
   "source": [
    "norm_features = ['Contacts_Count_12_mon','Total_Revolving_Bal','Months_Inactive_12_mon'\n",
    "                 'Total_Trans_Amt','Avg_Open_To_Buy'\n",
    "                 'Total_Trans_Ct','Avg_Utilization_Ratio','Bayes1','Bayes2','Credit_Limit','Total_Relationship_Count'\n",
    "                ]\n",
    "stan_features = ['Customer_Age','Total_Amt_Chng_Q4_Q1'\n",
    "    'Dependent_count','Months_on_book','Total_Ct_Chng_Q4_Q1']"
   ]
  },
  {
   "cell_type": "code",
   "execution_count": 37,
   "id": "228461c9",
   "metadata": {
    "execution": {
     "iopub.execute_input": "2023-01-06T04:23:54.744334Z",
     "iopub.status.busy": "2023-01-06T04:23:54.743901Z",
     "iopub.status.idle": "2023-01-06T04:23:54.751317Z",
     "shell.execute_reply": "2023-01-06T04:23:54.750187Z"
    },
    "papermill": {
     "duration": 0.030885,
     "end_time": "2023-01-06T04:23:54.753799",
     "exception": false,
     "start_time": "2023-01-06T04:23:54.722914",
     "status": "completed"
    },
    "tags": []
   },
   "outputs": [
    {
     "data": {
      "text/plain": [
       "['Customer_Age',\n",
       " 'Dependent_count',\n",
       " 'Months_on_book',\n",
       " 'Total_Relationship_Count',\n",
       " 'Months_Inactive_12_mon',\n",
       " 'Contacts_Count_12_mon',\n",
       " 'Credit_Limit',\n",
       " 'Total_Revolving_Bal',\n",
       " 'Avg_Open_To_Buy',\n",
       " 'Total_Amt_Chng_Q4_Q1',\n",
       " 'Total_Trans_Amt',\n",
       " 'Total_Trans_Ct',\n",
       " 'Total_Ct_Chng_Q4_Q1',\n",
       " 'Avg_Utilization_Ratio',\n",
       " 'Bayes1',\n",
       " 'Bayes2']"
      ]
     },
     "execution_count": 37,
     "metadata": {},
     "output_type": "execute_result"
    }
   ],
   "source": [
    "cont_cols_names"
   ]
  },
  {
   "cell_type": "code",
   "execution_count": 38,
   "id": "c13109e8",
   "metadata": {
    "execution": {
     "iopub.execute_input": "2023-01-06T04:23:54.796694Z",
     "iopub.status.busy": "2023-01-06T04:23:54.796200Z",
     "iopub.status.idle": "2023-01-06T04:23:58.700650Z",
     "shell.execute_reply": "2023-01-06T04:23:58.699262Z"
    },
    "papermill": {
     "duration": 3.928533,
     "end_time": "2023-01-06T04:23:58.703330",
     "exception": false,
     "start_time": "2023-01-06T04:23:54.774797",
     "status": "completed"
    },
    "tags": []
   },
   "outputs": [
    {
     "data": {
      "image/png": "[encoded data removed]",
      "text/plain": [
       "<Figure size 720x360 with 1 Axes>"
      ]
     },
     "metadata": {
      "needs_background": "light"
     },
     "output_type": "display_data"
    },
    {
     "data": {
      "image/png": "[encoded data removed]",
      "text/plain": [
       "<Figure size 720x360 with 1 Axes>"
      ]
     },
     "metadata": {},
     "output_type": "display_data"
    },
    {
     "data": {
      "image/png": "[encoded data removed]",
      "text/plain": [
       "<Figure size 720x360 with 1 Axes>"
      ]
     },
     "metadata": {},
     "output_type": "display_data"
    },
    {
     "data": {
      "image/png": "[encoded data removed]",
      "text/plain": [
       "<Figure size 720x360 with 1 Axes>"
      ]
     },
     "metadata": {},
     "output_type": "display_data"
    },
    {
     "data": {
      "image/png": "[encoded data removed]",
      "text/plain": [
       "<Figure size 720x360 with 1 Axes>"
      ]
     },
     "metadata": {},
     "output_type": "display_data"
    },
    {
     "data": {
      "image/png": "[encoded data removed]",
      "text/plain": [
       "<Figure size 720x360 with 1 Axes>"
      ]
     },
     "metadata": {},
     "output_type": "display_data"
    },
    {
     "data": {
      "image/png": "[encoded data removed]",
      "text/plain": [
       "<Figure size 720x360 with 1 Axes>"
      ]
     },
     "metadata": {},
     "output_type": "display_data"
    },
    {
     "data": {
      "image/png": "[encoded data removed]",
      "text/plain": [
       "<Figure size 720x360 with 1 Axes>"
      ]
     },
     "metadata": {},
     "output_type": "display_data"
    },
    {
     "data": {
      "image/png": "[encoded data removed]",
      "text/plain": [
       "<Figure size 720x360 with 1 Axes>"
      ]
     },
     "metadata": {},
     "output_type": "display_data"
    },
    {
     "data": {
      "image/png": "[encoded data removed]",
      "text/plain": [
       "<Figure size 720x360 with 1 Axes>"
      ]
     },
     "metadata": {},
     "output_type": "display_data"
    },
    {
     "data": {
      "image/png": "[encoded data removed]",
      "text/plain": [
       "<Figure size 720x360 with 1 Axes>"
      ]
     },
     "metadata": {},
     "output_type": "display_data"
    },
    {
     "data": {
      "image/png": "[encoded data removed]",
      "text/plain": [
       "<Figure size 720x360 with 1 Axes>"
      ]
     },
     "metadata": {},
     "output_type": "display_data"
    },
    {
     "data": {
      "image/png": "[encoded data removed]",
      "text/plain": [
       "<Figure size 720x360 with 1 Axes>"
      ]
     },
     "metadata": {},
     "output_type": "display_data"
    },
    {
     "data": {
      "image/png": "[encoded data removed]",
      "text/plain": [
       "<Figure size 720x360 with 1 Axes>"
      ]
     },
     "metadata": {},
     "output_type": "display_data"
    },
    {
     "data": {
      "image/png": "[encoded data removed]",
      "text/plain": [
       "<Figure size 720x360 with 1 Axes>"
      ]
     },
     "metadata": {},
     "output_type": "display_data"
    },
    {
     "data": {
      "image/png": "[encoded data removed]",
      "text/plain": [
       "<Figure size 720x360 with 1 Axes>"
      ]
     },
     "metadata": {},
     "output_type": "display_data"
    }
   ],
   "source": [
    "for column in cont_cols_names:\n",
    "    plt.figure(figsize=(10,5))\n",
    "    sns.set_theme(style='whitegrid')\n",
    "    plt.hist(cont_cols[column], bins = 20)\n",
    "    plt.xlabel(column)\n",
    "    plt.ylabel('Count')\n",
    "    plt.show()"
   ]
  },
  {
   "cell_type": "code",
   "execution_count": 39,
   "id": "5363cbcd",
   "metadata": {
    "execution": {
     "iopub.execute_input": "2023-01-06T04:23:58.756532Z",
     "iopub.status.busy": "2023-01-06T04:23:58.756074Z",
     "iopub.status.idle": "2023-01-06T04:23:58.764478Z",
     "shell.execute_reply": "2023-01-06T04:23:58.763230Z"
    },
    "papermill": {
     "duration": 0.038086,
     "end_time": "2023-01-06T04:23:58.767312",
     "exception": false,
     "start_time": "2023-01-06T04:23:58.729226",
     "status": "completed"
    },
    "tags": []
   },
   "outputs": [
    {
     "data": {
      "text/plain": [
       "['Customer_Age',\n",
       " 'Dependent_count',\n",
       " 'Months_on_book',\n",
       " 'Total_Relationship_Count',\n",
       " 'Months_Inactive_12_mon',\n",
       " 'Contacts_Count_12_mon',\n",
       " 'Credit_Limit',\n",
       " 'Total_Revolving_Bal',\n",
       " 'Avg_Open_To_Buy',\n",
       " 'Total_Amt_Chng_Q4_Q1',\n",
       " 'Total_Trans_Amt',\n",
       " 'Total_Trans_Ct',\n",
       " 'Total_Ct_Chng_Q4_Q1',\n",
       " 'Avg_Utilization_Ratio',\n",
       " 'Bayes1',\n",
       " 'Bayes2']"
      ]
     },
     "execution_count": 39,
     "metadata": {},
     "output_type": "execute_result"
    }
   ],
   "source": [
    "cont_cols_names"
   ]
  },
  {
   "cell_type": "code",
   "execution_count": 40,
   "id": "f1f93212",
   "metadata": {
    "execution": {
     "iopub.execute_input": "2023-01-06T04:23:58.820202Z",
     "iopub.status.busy": "2023-01-06T04:23:58.819439Z",
     "iopub.status.idle": "2023-01-06T04:23:58.833658Z",
     "shell.execute_reply": "2023-01-06T04:23:58.832256Z"
    },
    "papermill": {
     "duration": 0.044002,
     "end_time": "2023-01-06T04:23:58.836722",
     "exception": false,
     "start_time": "2023-01-06T04:23:58.792720",
     "status": "completed"
    },
    "tags": []
   },
   "outputs": [
    {
     "data": {
      "text/html": [
       "<div>\n",
       "<style scoped>\n",
       "    .dataframe tbody tr th:only-of-type {\n",
       "        vertical-align: middle;\n",
       "    }\n",
       "\n",
       "    .dataframe tbody tr th {\n",
       "        vertical-align: top;\n",
       "    }\n",
       "\n",
       "    .dataframe thead th {\n",
       "        text-align: right;\n",
       "    }\n",
       "</style>\n",
       "<table border=\"1\" class=\"dataframe\">\n",
       "  <thead>\n",
       "    <tr style=\"text-align: right;\">\n",
       "      <th></th>\n",
       "      <th>Gender</th>\n",
       "      <th>Education_Level</th>\n",
       "      <th>Marital_Status</th>\n",
       "      <th>Income_Category</th>\n",
       "      <th>Card_Category</th>\n",
       "    </tr>\n",
       "  </thead>\n",
       "  <tbody>\n",
       "    <tr>\n",
       "      <th>0</th>\n",
       "      <td>M</td>\n",
       "      <td>High School</td>\n",
       "      <td>Married</td>\n",
       "      <td>$60K - $80K</td>\n",
       "      <td>Blue</td>\n",
       "    </tr>\n",
       "    <tr>\n",
       "      <th>1</th>\n",
       "      <td>F</td>\n",
       "      <td>Graduate</td>\n",
       "      <td>Single</td>\n",
       "      <td>Less than $40K</td>\n",
       "      <td>Blue</td>\n",
       "    </tr>\n",
       "    <tr>\n",
       "      <th>2</th>\n",
       "      <td>M</td>\n",
       "      <td>Graduate</td>\n",
       "      <td>Married</td>\n",
       "      <td>$80K - $120K</td>\n",
       "      <td>Blue</td>\n",
       "    </tr>\n",
       "    <tr>\n",
       "      <th>3</th>\n",
       "      <td>F</td>\n",
       "      <td>High School</td>\n",
       "      <td>Unknown</td>\n",
       "      <td>Less than $40K</td>\n",
       "      <td>Blue</td>\n",
       "    </tr>\n",
       "    <tr>\n",
       "      <th>4</th>\n",
       "      <td>M</td>\n",
       "      <td>Uneducated</td>\n",
       "      <td>Married</td>\n",
       "      <td>$60K - $80K</td>\n",
       "      <td>Blue</td>\n",
       "    </tr>\n",
       "  </tbody>\n",
       "</table>\n",
       "</div>"
      ],
      "text/plain": [
       "  Gender Education_Level Marital_Status Income_Category Card_Category\n",
       "0      M     High School        Married     $60K - $80K          Blue\n",
       "1      F        Graduate         Single  Less than $40K          Blue\n",
       "2      M        Graduate        Married    $80K - $120K          Blue\n",
       "3      F     High School        Unknown  Less than $40K          Blue\n",
       "4      M      Uneducated        Married     $60K - $80K          Blue"
      ]
     },
     "execution_count": 40,
     "metadata": {},
     "output_type": "execute_result"
    }
   ],
   "source": [
    "cat_cols.head()"
   ]
  },
  {
   "cell_type": "code",
   "execution_count": 41,
   "id": "e97d3939",
   "metadata": {
    "execution": {
     "iopub.execute_input": "2023-01-06T04:23:58.892193Z",
     "iopub.status.busy": "2023-01-06T04:23:58.891777Z",
     "iopub.status.idle": "2023-01-06T04:24:00.314288Z",
     "shell.execute_reply": "2023-01-06T04:24:00.312389Z"
    },
    "papermill": {
     "duration": 1.453656,
     "end_time": "2023-01-06T04:24:00.317526",
     "exception": false,
     "start_time": "2023-01-06T04:23:58.863870",
     "status": "completed"
    },
    "tags": []
   },
   "outputs": [
    {
     "data": {
      "image/png": "[encoded data removed]",
      "text/plain": [
       "<Figure size 720x360 with 1 Axes>"
      ]
     },
     "metadata": {},
     "output_type": "display_data"
    },
    {
     "data": {
      "image/png": "[encoded data removed]",
      "text/plain": [
       "<Figure size 720x360 with 1 Axes>"
      ]
     },
     "metadata": {},
     "output_type": "display_data"
    },
    {
     "data": {
      "image/png": "[encoded data removed]",
      "text/plain": [
       "<Figure size 720x360 with 1 Axes>"
      ]
     },
     "metadata": {},
     "output_type": "display_data"
    },
    {
     "data": {
      "image/png": "[encoded data removed]",
      "text/plain": [
       "<Figure size 720x360 with 1 Axes>"
      ]
     },
     "metadata": {},
     "output_type": "display_data"
    },
    {
     "data": {
      "image/png": "[encoded data removed]",
      "text/plain": [
       "<Figure size 720x360 with 1 Axes>"
      ]
     },
     "metadata": {},
     "output_type": "display_data"
    }
   ],
   "source": [
    "for cat in cat_cols_names:\n",
    "    plt.figure(figsize=(10,5))\n",
    "    sns.set_theme(style='whitegrid')\n",
    "    sns.boxplot(x = cat, y = 'Customer_Age', data = df)\n",
    "    plt.xlabel(cat)\n",
    "    plt.ylabel('Customer_Age')\n",
    "    plt.show()"
   ]
  },
  {
   "cell_type": "markdown",
   "id": "40dcfb45",
   "metadata": {
    "papermill": {
     "duration": 0.02616,
     "end_time": "2023-01-06T04:24:00.370675",
     "exception": false,
     "start_time": "2023-01-06T04:24:00.344515",
     "status": "completed"
    },
    "tags": []
   },
   "source": [
    "So, after one hot encoding categorical features, there were increased no of rows and columns"
   ]
  },
  {
   "cell_type": "code",
   "execution_count": 42,
   "id": "7ec615f9",
   "metadata": {
    "execution": {
     "iopub.execute_input": "2023-01-06T04:24:00.426961Z",
     "iopub.status.busy": "2023-01-06T04:24:00.425879Z",
     "iopub.status.idle": "2023-01-06T04:24:02.036802Z",
     "shell.execute_reply": "2023-01-06T04:24:02.035795Z"
    },
    "papermill": {
     "duration": 1.641184,
     "end_time": "2023-01-06T04:24:02.039352",
     "exception": false,
     "start_time": "2023-01-06T04:24:00.398168",
     "status": "completed"
    },
    "tags": []
   },
   "outputs": [
    {
     "data": {
      "image/png": "[encoded data removed]",
      "text/plain": [
       "<Figure size 720x360 with 1 Axes>"
      ]
     },
     "metadata": {},
     "output_type": "display_data"
    },
    {
     "data": {
      "image/png": "[encoded data removed]",
      "text/plain": [
       "<Figure size 720x360 with 1 Axes>"
      ]
     },
     "metadata": {},
     "output_type": "display_data"
    },
    {
     "data": {
      "image/png": "[encoded data removed]",
      "text/plain": [
       "<Figure size 720x360 with 1 Axes>"
      ]
     },
     "metadata": {},
     "output_type": "display_data"
    },
    {
     "data": {
      "image/png": "[encoded data removed]",
      "text/plain": [
       "<Figure size 720x360 with 1 Axes>"
      ]
     },
     "metadata": {},
     "output_type": "display_data"
    },
    {
     "data": {
      "image/png": "[encoded data removed]",
      "text/plain": [
       "<Figure size 720x360 with 1 Axes>"
      ]
     },
     "metadata": {},
     "output_type": "display_data"
    }
   ],
   "source": [
    "for cat in cat_cols_names:\n",
    "    plt.figure(figsize=(10,5))\n",
    "    sns.set_theme(style='whitegrid')\n",
    "    sns.boxplot(x = cat, y = 'Credit_Limit' , data = df)\n",
    "    plt.xlabel(cat)\n",
    "    plt.ylabel('Credit Limit')\n",
    "    plt.show()"
   ]
  },
  {
   "cell_type": "code",
   "execution_count": 43,
   "id": "71b814c5",
   "metadata": {
    "execution": {
     "iopub.execute_input": "2023-01-06T04:24:02.100345Z",
     "iopub.status.busy": "2023-01-06T04:24:02.099717Z",
     "iopub.status.idle": "2023-01-06T04:24:02.161209Z",
     "shell.execute_reply": "2023-01-06T04:24:02.159982Z"
    },
    "papermill": {
     "duration": 0.094959,
     "end_time": "2023-01-06T04:24:02.164162",
     "exception": false,
     "start_time": "2023-01-06T04:24:02.069203",
     "status": "completed"
    },
    "tags": []
   },
   "outputs": [],
   "source": [
    "from sklearn.preprocessing import RobustScaler\n",
    "from sklearn.model_selection import train_test_split"
   ]
  },
  {
   "cell_type": "markdown",
   "id": "f78c7776",
   "metadata": {
    "papermill": {
     "duration": 0.027678,
     "end_time": "2023-01-06T04:24:02.220384",
     "exception": false,
     "start_time": "2023-01-06T04:24:02.192706",
     "status": "completed"
    },
    "tags": []
   },
   "source": [
    "It is generally recommended to split the data into training, validation, and test sets before performing normalization. This is because normalization is a data-dependent process, and the statistics used to scale the data (such as the mean and standard deviation) should be calculated using only the training data."
   ]
  },
  {
   "cell_type": "code",
   "execution_count": 44,
   "id": "a4a8660d",
   "metadata": {
    "execution": {
     "iopub.execute_input": "2023-01-06T04:24:02.279083Z",
     "iopub.status.busy": "2023-01-06T04:24:02.278639Z",
     "iopub.status.idle": "2023-01-06T04:24:02.306220Z",
     "shell.execute_reply": "2023-01-06T04:24:02.304773Z"
    },
    "papermill": {
     "duration": 0.059753,
     "end_time": "2023-01-06T04:24:02.308834",
     "exception": false,
     "start_time": "2023-01-06T04:24:02.249081",
     "status": "completed"
    },
    "tags": []
   },
   "outputs": [
    {
     "name": "stderr",
     "output_type": "stream",
     "text": [
      "/opt/conda/lib/python3.7/site-packages/pandas/core/frame.py:4913: SettingWithCopyWarning: \n",
      "A value is trying to be set on a copy of a slice from a DataFrame\n",
      "\n",
      "See the caveats in the documentation: https://pandas.pydata.org/pandas-docs/stable/user_guide/indexing.html#returning-a-view-versus-a-copy\n",
      "  errors=errors,\n"
     ]
    },
    {
     "data": {
      "text/html": [
       "<div>\n",
       "<style scoped>\n",
       "    .dataframe tbody tr th:only-of-type {\n",
       "        vertical-align: middle;\n",
       "    }\n",
       "\n",
       "    .dataframe tbody tr th {\n",
       "        vertical-align: top;\n",
       "    }\n",
       "\n",
       "    .dataframe thead th {\n",
       "        text-align: right;\n",
       "    }\n",
       "</style>\n",
       "<table border=\"1\" class=\"dataframe\">\n",
       "  <thead>\n",
       "    <tr style=\"text-align: right;\">\n",
       "      <th></th>\n",
       "      <th>Customer_Age</th>\n",
       "      <th>Dependent_count</th>\n",
       "      <th>Months_on_book</th>\n",
       "      <th>Total_Relationship_Count</th>\n",
       "      <th>Months_Inactive_12_mon</th>\n",
       "      <th>Contacts_Count_12_mon</th>\n",
       "      <th>Credit_Limit</th>\n",
       "      <th>Total_Revolving_Bal</th>\n",
       "      <th>Avg_Open_To_Buy</th>\n",
       "      <th>Total_Amt_Chng_Q4_Q1</th>\n",
       "      <th>Total_Trans_Amt</th>\n",
       "      <th>Total_Trans_Ct</th>\n",
       "      <th>Total_Ct_Chng_Q4_Q1</th>\n",
       "      <th>Avg_Utilization_Ratio</th>\n",
       "      <th>Bayes1</th>\n",
       "      <th>Bayes2</th>\n",
       "    </tr>\n",
       "  </thead>\n",
       "  <tbody>\n",
       "    <tr>\n",
       "      <th>0</th>\n",
       "      <td>45</td>\n",
       "      <td>3</td>\n",
       "      <td>39</td>\n",
       "      <td>5</td>\n",
       "      <td>1</td>\n",
       "      <td>3</td>\n",
       "      <td>12691.0</td>\n",
       "      <td>777</td>\n",
       "      <td>11914.0</td>\n",
       "      <td>1.335</td>\n",
       "      <td>1144</td>\n",
       "      <td>42</td>\n",
       "      <td>1.625</td>\n",
       "      <td>0.061</td>\n",
       "      <td>0.000093</td>\n",
       "      <td>0.99991</td>\n",
       "    </tr>\n",
       "    <tr>\n",
       "      <th>1</th>\n",
       "      <td>49</td>\n",
       "      <td>5</td>\n",
       "      <td>44</td>\n",
       "      <td>6</td>\n",
       "      <td>1</td>\n",
       "      <td>2</td>\n",
       "      <td>8256.0</td>\n",
       "      <td>864</td>\n",
       "      <td>7392.0</td>\n",
       "      <td>1.541</td>\n",
       "      <td>1291</td>\n",
       "      <td>33</td>\n",
       "      <td>3.714</td>\n",
       "      <td>0.105</td>\n",
       "      <td>0.000057</td>\n",
       "      <td>0.99994</td>\n",
       "    </tr>\n",
       "    <tr>\n",
       "      <th>2</th>\n",
       "      <td>51</td>\n",
       "      <td>3</td>\n",
       "      <td>36</td>\n",
       "      <td>4</td>\n",
       "      <td>1</td>\n",
       "      <td>0</td>\n",
       "      <td>3418.0</td>\n",
       "      <td>0</td>\n",
       "      <td>3418.0</td>\n",
       "      <td>2.594</td>\n",
       "      <td>1887</td>\n",
       "      <td>20</td>\n",
       "      <td>2.333</td>\n",
       "      <td>0.000</td>\n",
       "      <td>0.000021</td>\n",
       "      <td>0.99998</td>\n",
       "    </tr>\n",
       "    <tr>\n",
       "      <th>3</th>\n",
       "      <td>40</td>\n",
       "      <td>4</td>\n",
       "      <td>34</td>\n",
       "      <td>3</td>\n",
       "      <td>4</td>\n",
       "      <td>1</td>\n",
       "      <td>3313.0</td>\n",
       "      <td>2517</td>\n",
       "      <td>796.0</td>\n",
       "      <td>1.405</td>\n",
       "      <td>1171</td>\n",
       "      <td>20</td>\n",
       "      <td>2.333</td>\n",
       "      <td>0.760</td>\n",
       "      <td>0.000134</td>\n",
       "      <td>0.99987</td>\n",
       "    </tr>\n",
       "    <tr>\n",
       "      <th>4</th>\n",
       "      <td>40</td>\n",
       "      <td>3</td>\n",
       "      <td>21</td>\n",
       "      <td>5</td>\n",
       "      <td>1</td>\n",
       "      <td>0</td>\n",
       "      <td>4716.0</td>\n",
       "      <td>0</td>\n",
       "      <td>4716.0</td>\n",
       "      <td>2.175</td>\n",
       "      <td>816</td>\n",
       "      <td>28</td>\n",
       "      <td>2.500</td>\n",
       "      <td>0.000</td>\n",
       "      <td>0.000022</td>\n",
       "      <td>0.99998</td>\n",
       "    </tr>\n",
       "  </tbody>\n",
       "</table>\n",
       "</div>"
      ],
      "text/plain": [
       "   Customer_Age  Dependent_count  Months_on_book  Total_Relationship_Count  \\\n",
       "0            45                3              39                         5   \n",
       "1            49                5              44                         6   \n",
       "2            51                3              36                         4   \n",
       "3            40                4              34                         3   \n",
       "4            40                3              21                         5   \n",
       "\n",
       "   Months_Inactive_12_mon  Contacts_Count_12_mon  Credit_Limit  \\\n",
       "0                       1                      3       12691.0   \n",
       "1                       1                      2        8256.0   \n",
       "2                       1                      0        3418.0   \n",
       "3                       4                      1        3313.0   \n",
       "4                       1                      0        4716.0   \n",
       "\n",
       "   Total_Revolving_Bal  Avg_Open_To_Buy  Total_Amt_Chng_Q4_Q1  \\\n",
       "0                  777          11914.0                 1.335   \n",
       "1                  864           7392.0                 1.541   \n",
       "2                    0           3418.0                 2.594   \n",
       "3                 2517            796.0                 1.405   \n",
       "4                    0           4716.0                 2.175   \n",
       "\n",
       "   Total_Trans_Amt  Total_Trans_Ct  Total_Ct_Chng_Q4_Q1  \\\n",
       "0             1144              42                1.625   \n",
       "1             1291              33                3.714   \n",
       "2             1887              20                2.333   \n",
       "3             1171              20                2.333   \n",
       "4              816              28                2.500   \n",
       "\n",
       "   Avg_Utilization_Ratio    Bayes1   Bayes2  \n",
       "0                  0.061  0.000093  0.99991  \n",
       "1                  0.105  0.000057  0.99994  \n",
       "2                  0.000  0.000021  0.99998  \n",
       "3                  0.760  0.000134  0.99987  \n",
       "4                  0.000  0.000022  0.99998  "
      ]
     },
     "execution_count": 44,
     "metadata": {},
     "output_type": "execute_result"
    }
   ],
   "source": [
    "cont_cols.drop(labels = ['Churned'], axis = 1, inplace = True)\n",
    "cont_cols.head()"
   ]
  },
  {
   "cell_type": "code",
   "execution_count": 45,
   "id": "d47f95c4",
   "metadata": {
    "execution": {
     "iopub.execute_input": "2023-01-06T04:24:02.368392Z",
     "iopub.status.busy": "2023-01-06T04:24:02.367285Z",
     "iopub.status.idle": "2023-01-06T04:24:02.398298Z",
     "shell.execute_reply": "2023-01-06T04:24:02.396603Z"
    },
    "papermill": {
     "duration": 0.06365,
     "end_time": "2023-01-06T04:24:02.401018",
     "exception": false,
     "start_time": "2023-01-06T04:24:02.337368",
     "status": "completed"
    },
    "tags": []
   },
   "outputs": [
    {
     "name": "stdout",
     "output_type": "stream",
     "text": [
      "(10127, 39)\n"
     ]
    },
    {
     "data": {
      "text/html": [
       "<div>\n",
       "<style scoped>\n",
       "    .dataframe tbody tr th:only-of-type {\n",
       "        vertical-align: middle;\n",
       "    }\n",
       "\n",
       "    .dataframe tbody tr th {\n",
       "        vertical-align: top;\n",
       "    }\n",
       "\n",
       "    .dataframe thead th {\n",
       "        text-align: right;\n",
       "    }\n",
       "</style>\n",
       "<table border=\"1\" class=\"dataframe\">\n",
       "  <thead>\n",
       "    <tr style=\"text-align: right;\">\n",
       "      <th></th>\n",
       "      <th>Customer_Age</th>\n",
       "      <th>Dependent_count</th>\n",
       "      <th>Months_on_book</th>\n",
       "      <th>Total_Relationship_Count</th>\n",
       "      <th>Months_Inactive_12_mon</th>\n",
       "      <th>Contacts_Count_12_mon</th>\n",
       "      <th>Credit_Limit</th>\n",
       "      <th>Total_Revolving_Bal</th>\n",
       "      <th>Avg_Open_To_Buy</th>\n",
       "      <th>Total_Amt_Chng_Q4_Q1</th>\n",
       "      <th>...</th>\n",
       "      <th>13</th>\n",
       "      <th>14</th>\n",
       "      <th>15</th>\n",
       "      <th>16</th>\n",
       "      <th>17</th>\n",
       "      <th>18</th>\n",
       "      <th>19</th>\n",
       "      <th>20</th>\n",
       "      <th>21</th>\n",
       "      <th>22</th>\n",
       "    </tr>\n",
       "  </thead>\n",
       "  <tbody>\n",
       "    <tr>\n",
       "      <th>0</th>\n",
       "      <td>45</td>\n",
       "      <td>3</td>\n",
       "      <td>39</td>\n",
       "      <td>5</td>\n",
       "      <td>1</td>\n",
       "      <td>3</td>\n",
       "      <td>12691.0</td>\n",
       "      <td>777</td>\n",
       "      <td>11914.0</td>\n",
       "      <td>1.335</td>\n",
       "      <td>...</td>\n",
       "      <td>0.0</td>\n",
       "      <td>0.0</td>\n",
       "      <td>1.0</td>\n",
       "      <td>0.0</td>\n",
       "      <td>0.0</td>\n",
       "      <td>0.0</td>\n",
       "      <td>1.0</td>\n",
       "      <td>0.0</td>\n",
       "      <td>0.0</td>\n",
       "      <td>0.0</td>\n",
       "    </tr>\n",
       "    <tr>\n",
       "      <th>1</th>\n",
       "      <td>49</td>\n",
       "      <td>5</td>\n",
       "      <td>44</td>\n",
       "      <td>6</td>\n",
       "      <td>1</td>\n",
       "      <td>2</td>\n",
       "      <td>8256.0</td>\n",
       "      <td>864</td>\n",
       "      <td>7392.0</td>\n",
       "      <td>1.541</td>\n",
       "      <td>...</td>\n",
       "      <td>0.0</td>\n",
       "      <td>0.0</td>\n",
       "      <td>0.0</td>\n",
       "      <td>0.0</td>\n",
       "      <td>1.0</td>\n",
       "      <td>0.0</td>\n",
       "      <td>1.0</td>\n",
       "      <td>0.0</td>\n",
       "      <td>0.0</td>\n",
       "      <td>0.0</td>\n",
       "    </tr>\n",
       "    <tr>\n",
       "      <th>2</th>\n",
       "      <td>51</td>\n",
       "      <td>3</td>\n",
       "      <td>36</td>\n",
       "      <td>4</td>\n",
       "      <td>1</td>\n",
       "      <td>0</td>\n",
       "      <td>3418.0</td>\n",
       "      <td>0</td>\n",
       "      <td>3418.0</td>\n",
       "      <td>2.594</td>\n",
       "      <td>...</td>\n",
       "      <td>0.0</td>\n",
       "      <td>0.0</td>\n",
       "      <td>0.0</td>\n",
       "      <td>1.0</td>\n",
       "      <td>0.0</td>\n",
       "      <td>0.0</td>\n",
       "      <td>1.0</td>\n",
       "      <td>0.0</td>\n",
       "      <td>0.0</td>\n",
       "      <td>0.0</td>\n",
       "    </tr>\n",
       "  </tbody>\n",
       "</table>\n",
       "<p>3 rows × 39 columns</p>\n",
       "</div>"
      ],
      "text/plain": [
       "   Customer_Age  Dependent_count  Months_on_book  Total_Relationship_Count  \\\n",
       "0            45                3              39                         5   \n",
       "1            49                5              44                         6   \n",
       "2            51                3              36                         4   \n",
       "\n",
       "   Months_Inactive_12_mon  Contacts_Count_12_mon  Credit_Limit  \\\n",
       "0                       1                      3       12691.0   \n",
       "1                       1                      2        8256.0   \n",
       "2                       1                      0        3418.0   \n",
       "\n",
       "   Total_Revolving_Bal  Avg_Open_To_Buy  Total_Amt_Chng_Q4_Q1  ...   13   14  \\\n",
       "0                  777          11914.0                 1.335  ...  0.0  0.0   \n",
       "1                  864           7392.0                 1.541  ...  0.0  0.0   \n",
       "2                    0           3418.0                 2.594  ...  0.0  0.0   \n",
       "\n",
       "    15   16   17   18   19   20   21   22  \n",
       "0  1.0  0.0  0.0  0.0  1.0  0.0  0.0  0.0  \n",
       "1  0.0  0.0  1.0  0.0  1.0  0.0  0.0  0.0  \n",
       "2  0.0  1.0  0.0  0.0  1.0  0.0  0.0  0.0  \n",
       "\n",
       "[3 rows x 39 columns]"
      ]
     },
     "execution_count": 45,
     "metadata": {},
     "output_type": "execute_result"
    }
   ],
   "source": [
    "#CONCATENATING CATEGORICAL AND CONTINUOUS FEATURES\n",
    "X = pd.concat([cont_cols , encoded_df],axis =1 )\n",
    "print(X.shape)\n",
    "X.head(3)\n"
   ]
  },
  {
   "cell_type": "code",
   "execution_count": 46,
   "id": "d4043c08",
   "metadata": {
    "execution": {
     "iopub.execute_input": "2023-01-06T04:24:02.469062Z",
     "iopub.status.busy": "2023-01-06T04:24:02.467430Z",
     "iopub.status.idle": "2023-01-06T04:24:02.482790Z",
     "shell.execute_reply": "2023-01-06T04:24:02.480630Z"
    },
    "papermill": {
     "duration": 0.052185,
     "end_time": "2023-01-06T04:24:02.486468",
     "exception": false,
     "start_time": "2023-01-06T04:24:02.434283",
     "status": "completed"
    },
    "tags": []
   },
   "outputs": [
    {
     "data": {
      "text/plain": [
       "Customer_Age                  int64\n",
       "Dependent_count               int64\n",
       "Months_on_book                int64\n",
       "Total_Relationship_Count      int64\n",
       "Months_Inactive_12_mon        int64\n",
       "Contacts_Count_12_mon         int64\n",
       "Credit_Limit                float64\n",
       "Total_Revolving_Bal           int64\n",
       "Avg_Open_To_Buy             float64\n",
       "Total_Amt_Chng_Q4_Q1        float64\n",
       "Total_Trans_Amt               int64\n",
       "Total_Trans_Ct                int64\n",
       "Total_Ct_Chng_Q4_Q1         float64\n",
       "Avg_Utilization_Ratio       float64\n",
       "Bayes1                      float64\n",
       "Bayes2                      float64\n",
       "0                           float64\n",
       "1                           float64\n",
       "2                           float64\n",
       "3                           float64\n",
       "4                           float64\n",
       "5                           float64\n",
       "6                           float64\n",
       "7                           float64\n",
       "8                           float64\n",
       "9                           float64\n",
       "10                          float64\n",
       "11                          float64\n",
       "12                          float64\n",
       "13                          float64\n",
       "14                          float64\n",
       "15                          float64\n",
       "16                          float64\n",
       "17                          float64\n",
       "18                          float64\n",
       "19                          float64\n",
       "20                          float64\n",
       "21                          float64\n",
       "22                          float64\n",
       "dtype: object"
      ]
     },
     "execution_count": 46,
     "metadata": {},
     "output_type": "execute_result"
    }
   ],
   "source": [
    "X.dtypes"
   ]
  },
  {
   "cell_type": "code",
   "execution_count": 47,
   "id": "0195c702",
   "metadata": {
    "execution": {
     "iopub.execute_input": "2023-01-06T04:24:02.557283Z",
     "iopub.status.busy": "2023-01-06T04:24:02.555920Z",
     "iopub.status.idle": "2023-01-06T04:24:02.566691Z",
     "shell.execute_reply": "2023-01-06T04:24:02.565473Z"
    },
    "papermill": {
     "duration": 0.050036,
     "end_time": "2023-01-06T04:24:02.569120",
     "exception": false,
     "start_time": "2023-01-06T04:24:02.519084",
     "status": "completed"
    },
    "tags": []
   },
   "outputs": [
    {
     "data": {
      "text/html": [
       "<div>\n",
       "<style scoped>\n",
       "    .dataframe tbody tr th:only-of-type {\n",
       "        vertical-align: middle;\n",
       "    }\n",
       "\n",
       "    .dataframe tbody tr th {\n",
       "        vertical-align: top;\n",
       "    }\n",
       "\n",
       "    .dataframe thead th {\n",
       "        text-align: right;\n",
       "    }\n",
       "</style>\n",
       "<table border=\"1\" class=\"dataframe\">\n",
       "  <thead>\n",
       "    <tr style=\"text-align: right;\">\n",
       "      <th></th>\n",
       "      <th>Churned</th>\n",
       "    </tr>\n",
       "  </thead>\n",
       "  <tbody>\n",
       "    <tr>\n",
       "      <th>0</th>\n",
       "      <td>0</td>\n",
       "    </tr>\n",
       "    <tr>\n",
       "      <th>1</th>\n",
       "      <td>0</td>\n",
       "    </tr>\n",
       "  </tbody>\n",
       "</table>\n",
       "</div>"
      ],
      "text/plain": [
       "   Churned\n",
       "0        0\n",
       "1        0"
      ]
     },
     "execution_count": 47,
     "metadata": {},
     "output_type": "execute_result"
    }
   ],
   "source": [
    "y.head(2)"
   ]
  },
  {
   "cell_type": "markdown",
   "id": "e1ec9b43",
   "metadata": {
    "papermill": {
     "duration": 0.028834,
     "end_time": "2023-01-06T04:24:02.627733",
     "exception": false,
     "start_time": "2023-01-06T04:24:02.598899",
     "status": "completed"
    },
    "tags": []
   },
   "source": [
    "NORMALISING THE DATASET"
   ]
  },
  {
   "cell_type": "code",
   "execution_count": 48,
   "id": "143f719e",
   "metadata": {
    "execution": {
     "iopub.execute_input": "2023-01-06T04:24:02.688983Z",
     "iopub.status.busy": "2023-01-06T04:24:02.688169Z",
     "iopub.status.idle": "2023-01-06T04:24:02.703194Z",
     "shell.execute_reply": "2023-01-06T04:24:02.702283Z"
    },
    "papermill": {
     "duration": 0.048538,
     "end_time": "2023-01-06T04:24:02.705899",
     "exception": false,
     "start_time": "2023-01-06T04:24:02.657361",
     "status": "completed"
    },
    "tags": []
   },
   "outputs": [],
   "source": [
    "X_train, X_val1, y_train, y_val1 = train_test_split(X,y,test_size =0.4, train_size = 0.6 , random_state=0)\n",
    "X_test, X_val , y_test , y_val = train_test_split(X_val1, y_val1, test_size = .5, random_state = 0)"
   ]
  },
  {
   "cell_type": "code",
   "execution_count": 49,
   "id": "583ef107",
   "metadata": {
    "execution": {
     "iopub.execute_input": "2023-01-06T04:24:02.767403Z",
     "iopub.status.busy": "2023-01-06T04:24:02.766536Z",
     "iopub.status.idle": "2023-01-06T04:24:02.774095Z",
     "shell.execute_reply": "2023-01-06T04:24:02.773163Z"
    },
    "papermill": {
     "duration": 0.041567,
     "end_time": "2023-01-06T04:24:02.776417",
     "exception": false,
     "start_time": "2023-01-06T04:24:02.734850",
     "status": "completed"
    },
    "tags": []
   },
   "outputs": [
    {
     "data": {
      "text/plain": [
       "((6076, 39), (2025, 39), (2026, 39))"
      ]
     },
     "execution_count": 49,
     "metadata": {},
     "output_type": "execute_result"
    }
   ],
   "source": [
    "X_train.shape, X_test.shape , X_val.shape"
   ]
  },
  {
   "cell_type": "code",
   "execution_count": 50,
   "id": "01337518",
   "metadata": {
    "execution": {
     "iopub.execute_input": "2023-01-06T04:24:02.837781Z",
     "iopub.status.busy": "2023-01-06T04:24:02.836902Z",
     "iopub.status.idle": "2023-01-06T04:24:02.902224Z",
     "shell.execute_reply": "2023-01-06T04:24:02.900924Z"
    },
    "papermill": {
     "duration": 0.099251,
     "end_time": "2023-01-06T04:24:02.904902",
     "exception": false,
     "start_time": "2023-01-06T04:24:02.805651",
     "status": "completed"
    },
    "tags": []
   },
   "outputs": [
    {
     "name": "stderr",
     "output_type": "stream",
     "text": [
      "/opt/conda/lib/python3.7/site-packages/sklearn/utils/validation.py:1692: FutureWarning: Feature names only support names that are all strings. Got feature names with dtypes: ['int', 'str']. An error will be raised in 1.2.\n",
      "  FutureWarning,\n",
      "/opt/conda/lib/python3.7/site-packages/sklearn/utils/validation.py:1692: FutureWarning: Feature names only support names that are all strings. Got feature names with dtypes: ['int', 'str']. An error will be raised in 1.2.\n",
      "  FutureWarning,\n",
      "/opt/conda/lib/python3.7/site-packages/sklearn/utils/validation.py:1692: FutureWarning: Feature names only support names that are all strings. Got feature names with dtypes: ['int', 'str']. An error will be raised in 1.2.\n",
      "  FutureWarning,\n",
      "/opt/conda/lib/python3.7/site-packages/sklearn/utils/validation.py:1692: FutureWarning: Feature names only support names that are all strings. Got feature names with dtypes: ['int', 'str']. An error will be raised in 1.2.\n",
      "  FutureWarning,\n",
      "/opt/conda/lib/python3.7/site-packages/sklearn/utils/validation.py:1692: FutureWarning: Feature names only support names that are all strings. Got feature names with dtypes: ['int', 'str']. An error will be raised in 1.2.\n",
      "  FutureWarning,\n",
      "/opt/conda/lib/python3.7/site-packages/sklearn/utils/validation.py:1692: FutureWarning: Feature names only support names that are all strings. Got feature names with dtypes: ['int', 'str']. An error will be raised in 1.2.\n",
      "  FutureWarning,\n"
     ]
    }
   ],
   "source": [
    "scaler = RobustScaler()\n",
    "X_train_norm = scaler.fit_transform(X_train)\n",
    "X_test_norm = scaler.fit_transform(X_test)\n",
    "X_val_norm = scaler.fit_transform(X_val)\n",
    "\n",
    "y_train_norm = scaler.fit_transform(y_train)\n",
    "y_test_norm = scaler.fit_transform(y_test)\n",
    "y_val_norm = scaler.fit_transform(y_val)\n"
   ]
  },
  {
   "cell_type": "code",
   "execution_count": 51,
   "id": "d0ab7c93",
   "metadata": {
    "execution": {
     "iopub.execute_input": "2023-01-06T04:24:02.966014Z",
     "iopub.status.busy": "2023-01-06T04:24:02.965596Z",
     "iopub.status.idle": "2023-01-06T04:24:02.972153Z",
     "shell.execute_reply": "2023-01-06T04:24:02.971278Z"
    },
    "papermill": {
     "duration": 0.039998,
     "end_time": "2023-01-06T04:24:02.974286",
     "exception": false,
     "start_time": "2023-01-06T04:24:02.934288",
     "status": "completed"
    },
    "tags": []
   },
   "outputs": [
    {
     "data": {
      "text/plain": [
       "(6076, 39)"
      ]
     },
     "execution_count": 51,
     "metadata": {},
     "output_type": "execute_result"
    }
   ],
   "source": [
    "X_train_norm.shape"
   ]
  },
  {
   "cell_type": "markdown",
   "id": "0f018b4e",
   "metadata": {
    "papermill": {
     "duration": 0.030993,
     "end_time": "2023-01-06T04:24:03.037462",
     "exception": false,
     "start_time": "2023-01-06T04:24:03.006469",
     "status": "completed"
    },
    "tags": []
   },
   "source": [
    "**FINALLY TRAIN THE MODEL**"
   ]
  },
  {
   "cell_type": "code",
   "execution_count": 52,
   "id": "07c24162",
   "metadata": {
    "execution": {
     "iopub.execute_input": "2023-01-06T04:24:03.099056Z",
     "iopub.status.busy": "2023-01-06T04:24:03.098608Z",
     "iopub.status.idle": "2023-01-06T04:24:03.392210Z",
     "shell.execute_reply": "2023-01-06T04:24:03.390861Z"
    },
    "papermill": {
     "duration": 0.329563,
     "end_time": "2023-01-06T04:24:03.396948",
     "exception": false,
     "start_time": "2023-01-06T04:24:03.067385",
     "status": "completed"
    },
    "tags": []
   },
   "outputs": [
    {
     "name": "stderr",
     "output_type": "stream",
     "text": [
      "/opt/conda/lib/python3.7/site-packages/sklearn/utils/validation.py:1692: FutureWarning: Feature names only support names that are all strings. Got feature names with dtypes: ['int', 'str']. An error will be raised in 1.2.\n",
      "  FutureWarning,\n",
      "/opt/conda/lib/python3.7/site-packages/sklearn/utils/validation.py:993: DataConversionWarning: A column-vector y was passed when a 1d array was expected. Please change the shape of y to (n_samples, ), for example using ravel().\n",
      "  y = column_or_1d(y, warn=True)\n",
      "/opt/conda/lib/python3.7/site-packages/sklearn/linear_model/_logistic.py:818: ConvergenceWarning: lbfgs failed to converge (status=1):\n",
      "STOP: TOTAL NO. of ITERATIONS REACHED LIMIT.\n",
      "\n",
      "Increase the number of iterations (max_iter) or scale the data as shown in:\n",
      "    https://scikit-learn.org/stable/modules/preprocessing.html\n",
      "Please also refer to the documentation for alternative solver options:\n",
      "    https://scikit-learn.org/stable/modules/linear_model.html#logistic-regression\n",
      "  extra_warning_msg=_LOGISTIC_SOLVER_CONVERGENCE_MSG,\n"
     ]
    },
    {
     "data": {
      "text/plain": [
       "LogisticRegression()"
      ]
     },
     "execution_count": 52,
     "metadata": {},
     "output_type": "execute_result"
    }
   ],
   "source": [
    "from sklearn.linear_model import LogisticRegression\n",
    "from sklearn.metrics import accuracy_score\n",
    "lr = LogisticRegression()\n",
    "lr.fit(X_train, y_train)"
   ]
  },
  {
   "cell_type": "code",
   "execution_count": 53,
   "id": "d096d8a4",
   "metadata": {
    "execution": {
     "iopub.execute_input": "2023-01-06T04:24:03.523596Z",
     "iopub.status.busy": "2023-01-06T04:24:03.523137Z",
     "iopub.status.idle": "2023-01-06T04:24:03.537432Z",
     "shell.execute_reply": "2023-01-06T04:24:03.535848Z"
    },
    "papermill": {
     "duration": 0.068355,
     "end_time": "2023-01-06T04:24:03.544165",
     "exception": false,
     "start_time": "2023-01-06T04:24:03.475810",
     "status": "completed"
    },
    "tags": []
   },
   "outputs": [
    {
     "name": "stdout",
     "output_type": "stream",
     "text": [
      "The model scored 91.40882159315339 on training set\n"
     ]
    },
    {
     "name": "stderr",
     "output_type": "stream",
     "text": [
      "/opt/conda/lib/python3.7/site-packages/sklearn/utils/validation.py:1692: FutureWarning: Feature names only support names that are all strings. Got feature names with dtypes: ['int', 'str']. An error will be raised in 1.2.\n",
      "  FutureWarning,\n"
     ]
    }
   ],
   "source": [
    "score_on_train = lr.score(X_train, y_train) #seeing how it did on training set\n",
    "print('The model scored {} on training set'.format(score_on_train*100))"
   ]
  },
  {
   "cell_type": "code",
   "execution_count": 54,
   "id": "e0a84da0",
   "metadata": {
    "execution": {
     "iopub.execute_input": "2023-01-06T04:24:03.673509Z",
     "iopub.status.busy": "2023-01-06T04:24:03.673046Z",
     "iopub.status.idle": "2023-01-06T04:24:03.686813Z",
     "shell.execute_reply": "2023-01-06T04:24:03.684921Z"
    },
    "papermill": {
     "duration": 0.072372,
     "end_time": "2023-01-06T04:24:03.693210",
     "exception": false,
     "start_time": "2023-01-06T04:24:03.620838",
     "status": "completed"
    },
    "tags": []
   },
   "outputs": [
    {
     "name": "stdout",
     "output_type": "stream",
     "text": [
      "The model scored 91.40882159315339 on validation set\n"
     ]
    },
    {
     "name": "stderr",
     "output_type": "stream",
     "text": [
      "/opt/conda/lib/python3.7/site-packages/sklearn/utils/validation.py:1692: FutureWarning: Feature names only support names that are all strings. Got feature names with dtypes: ['int', 'str']. An error will be raised in 1.2.\n",
      "  FutureWarning,\n"
     ]
    }
   ],
   "source": [
    "score_on_val = lr.score(X_val, y_val)    #seeing how it did on validation set\n",
    "print('The model scored {} on validation set'.format(score_on_train*100))"
   ]
  },
  {
   "cell_type": "code",
   "execution_count": 55,
   "id": "f821ae86",
   "metadata": {
    "execution": {
     "iopub.execute_input": "2023-01-06T04:24:03.824331Z",
     "iopub.status.busy": "2023-01-06T04:24:03.823830Z",
     "iopub.status.idle": "2023-01-06T04:24:03.835371Z",
     "shell.execute_reply": "2023-01-06T04:24:03.833505Z"
    },
    "papermill": {
     "duration": 0.068694,
     "end_time": "2023-01-06T04:24:03.840609",
     "exception": false,
     "start_time": "2023-01-06T04:24:03.771915",
     "status": "completed"
    },
    "tags": []
   },
   "outputs": [
    {
     "name": "stderr",
     "output_type": "stream",
     "text": [
      "/opt/conda/lib/python3.7/site-packages/sklearn/utils/validation.py:1692: FutureWarning: Feature names only support names that are all strings. Got feature names with dtypes: ['int', 'str']. An error will be raised in 1.2.\n",
      "  FutureWarning,\n"
     ]
    }
   ],
   "source": [
    "y_pred = lr.predict(X_test)     #predicting results\n"
   ]
  },
  {
   "cell_type": "code",
   "execution_count": 56,
   "id": "320b94b4",
   "metadata": {
    "execution": {
     "iopub.execute_input": "2023-01-06T04:24:03.973111Z",
     "iopub.status.busy": "2023-01-06T04:24:03.972663Z",
     "iopub.status.idle": "2023-01-06T04:24:03.980811Z",
     "shell.execute_reply": "2023-01-06T04:24:03.979361Z"
    },
    "papermill": {
     "duration": 0.062554,
     "end_time": "2023-01-06T04:24:03.983566",
     "exception": false,
     "start_time": "2023-01-06T04:24:03.921012",
     "status": "completed"
    },
    "tags": []
   },
   "outputs": [
    {
     "name": "stdout",
     "output_type": "stream",
     "text": [
      "The model scored 91.40882159315339 on testing set\n"
     ]
    }
   ],
   "source": [
    "accuracy_score(y_test, y_pred)  #seeing how it did on test set\n",
    "print('The model scored {} on testing set'.format(score_on_train*100))"
   ]
  },
  {
   "cell_type": "markdown",
   "id": "2e3fcb42",
   "metadata": {
    "papermill": {
     "duration": 0.030539,
     "end_time": "2023-01-06T04:24:04.045827",
     "exception": false,
     "start_time": "2023-01-06T04:24:04.015288",
     "status": "completed"
    },
    "tags": []
   },
   "source": [
    "The model scored 91.4% on training set, 91.21% on cross-validation set and 92.04% on testing set."
   ]
  },
  {
   "cell_type": "code",
   "execution_count": 57,
   "id": "6c256825",
   "metadata": {
    "execution": {
     "iopub.execute_input": "2023-01-06T04:24:04.109245Z",
     "iopub.status.busy": "2023-01-06T04:24:04.108812Z",
     "iopub.status.idle": "2023-01-06T04:24:04.264310Z",
     "shell.execute_reply": "2023-01-06T04:24:04.262977Z"
    },
    "papermill": {
     "duration": 0.190955,
     "end_time": "2023-01-06T04:24:04.267187",
     "exception": false,
     "start_time": "2023-01-06T04:24:04.076232",
     "status": "completed"
    },
    "tags": []
   },
   "outputs": [],
   "source": [
    "from sklearn.ensemble import GradientBoostingClassifier\n",
    "gbc = GradientBoostingClassifier()\n"
   ]
  },
  {
   "cell_type": "code",
   "execution_count": 58,
   "id": "8b742f2b",
   "metadata": {
    "execution": {
     "iopub.execute_input": "2023-01-06T04:24:04.330142Z",
     "iopub.status.busy": "2023-01-06T04:24:04.329688Z",
     "iopub.status.idle": "2023-01-06T04:24:05.215183Z",
     "shell.execute_reply": "2023-01-06T04:24:05.213482Z"
    },
    "papermill": {
     "duration": 0.920476,
     "end_time": "2023-01-06T04:24:05.217905",
     "exception": false,
     "start_time": "2023-01-06T04:24:04.297429",
     "status": "completed"
    },
    "tags": []
   },
   "outputs": [
    {
     "name": "stderr",
     "output_type": "stream",
     "text": [
      "/opt/conda/lib/python3.7/site-packages/sklearn/utils/validation.py:1692: FutureWarning: Feature names only support names that are all strings. Got feature names with dtypes: ['int', 'str']. An error will be raised in 1.2.\n",
      "  FutureWarning,\n",
      "/opt/conda/lib/python3.7/site-packages/sklearn/ensemble/_gb.py:494: DataConversionWarning: A column-vector y was passed when a 1d array was expected. Please change the shape of y to (n_samples, ), for example using ravel().\n",
      "  y = column_or_1d(y, warn=True)\n",
      "/opt/conda/lib/python3.7/site-packages/sklearn/utils/validation.py:1692: FutureWarning: Feature names only support names that are all strings. Got feature names with dtypes: ['int', 'str']. An error will be raised in 1.2.\n",
      "  FutureWarning,\n",
      "/opt/conda/lib/python3.7/site-packages/sklearn/utils/validation.py:1692: FutureWarning: Feature names only support names that are all strings. Got feature names with dtypes: ['int', 'str']. An error will be raised in 1.2.\n",
      "  FutureWarning,\n",
      "/opt/conda/lib/python3.7/site-packages/sklearn/utils/validation.py:1692: FutureWarning: Feature names only support names that are all strings. Got feature names with dtypes: ['int', 'str']. An error will be raised in 1.2.\n",
      "  FutureWarning,\n"
     ]
    }
   ],
   "source": [
    "gbc.fit(X_train,y_train)\n",
    "score_train = gbc.score(X_train,y_train)\n",
    "y_pred_val = gbc.predict(X_val)\n",
    "score_val = accuracy_score(y_pred_val,y_val)\n",
    "y_pred = gbc.predict(X_test)\n",
    "score_test = accuracy_score(y_test, y_pred)"
   ]
  },
  {
   "cell_type": "code",
   "execution_count": 59,
   "id": "de94f808",
   "metadata": {
    "execution": {
     "iopub.execute_input": "2023-01-06T04:24:05.281404Z",
     "iopub.status.busy": "2023-01-06T04:24:05.280918Z",
     "iopub.status.idle": "2023-01-06T04:24:05.287909Z",
     "shell.execute_reply": "2023-01-06T04:24:05.286449Z"
    },
    "papermill": {
     "duration": 0.041109,
     "end_time": "2023-01-06T04:24:05.290137",
     "exception": false,
     "start_time": "2023-01-06T04:24:05.249028",
     "status": "completed"
    },
    "tags": []
   },
   "outputs": [
    {
     "name": "stdout",
     "output_type": "stream",
     "text": [
      "The model scored 100.0 on training set\n",
      "The model scored 100.0 on val set\n",
      "The model scored 100.0 on test set\n"
     ]
    }
   ],
   "source": [
    "print('The model scored {} on training set'.format(score_train*100))\n",
    "print('The model scored {} on val set'.format(score_val*100))\n",
    "print('The model scored {} on test set'.format(score_test*100))"
   ]
  },
  {
   "cell_type": "code",
   "execution_count": null,
   "id": "9d185ddd",
   "metadata": {
    "papermill": {
     "duration": 0.02994,
     "end_time": "2023-01-06T04:24:05.351638",
     "exception": false,
     "start_time": "2023-01-06T04:24:05.321698",
     "status": "completed"
    },
    "tags": []
   },
   "outputs": [],
   "source": []
  }
 ],
 "metadata": {
  "kernelspec": {
   "display_name": "Python 3",
   "language": "python",
   "name": "python3"
  },
  "language_info": {
   "codemirror_mode": {
    "name": "ipython",
    "version": 3
   },
   "file_extension": ".py",
   "mimetype": "text/x-python",
   "name": "python",
   "nbconvert_exporter": "python",
   "pygments_lexer": "ipython3",
   "version": "3.7.12"
  },
  "papermill": {
   "default_parameters": {},
   "duration": 24.459613,
   "end_time": "2023-01-06T04:24:06.207420",
   "environment_variables": {},
   "exception": null,
   "input_path": "__notebook__.ipynb",
   "output_path": "__notebook__.ipynb",
   "parameters": {},
   "start_time": "2023-01-06T04:23:41.747807",
   "version": "2.3.4"
  }
 },
 "nbformat": 4,
 "nbformat_minor": 5
}
